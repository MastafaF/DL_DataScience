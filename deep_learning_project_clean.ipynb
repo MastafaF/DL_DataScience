{
 "cells": [
  {
   "cell_type": "code",
   "execution_count": 2,
   "metadata": {
    "collapsed": true
   },
   "outputs": [],
   "source": [
    "## Useful for importing libraries on Google cloud. libraries are in Notebooks/libs folder\n",
    "import sys\n",
    "sys.path.insert(0, 'libs')"
   ]
  },
  {
   "cell_type": "code",
   "execution_count": 5,
   "metadata": {},
   "outputs": [
    {
     "name": "stderr",
     "output_type": "stream",
     "text": [
      "Using TensorFlow backend.\n"
     ]
    }
   ],
   "source": [
    "import numpy as np\n",
    "import keras \n",
    "import pandas as pd\n",
    "from sqlalchemy import create_engine\n",
    "\n",
    "from random import randint\n",
    "import matplotlib.pyplot as plt"
   ]
  },
  {
   "cell_type": "raw",
   "metadata": {},
   "source": [
    "!sudo apt-get install libatlas-base-dev"
   ]
  },
  {
   "cell_type": "raw",
   "metadata": {},
   "source": [
    "!pip install --upgrade pandas"
   ]
  },
  {
   "cell_type": "raw",
   "metadata": {},
   "source": [
    "!python3 -m pip install --upgrade pip"
   ]
  },
  {
   "cell_type": "code",
   "execution_count": 16,
   "metadata": {
    "collapsed": true
   },
   "outputs": [],
   "source": [
    "from google.cloud import storage\n",
    "\n",
    "from io import BytesIO\n",
    "\n",
    "client = storage.Client()\n",
    "\n",
    "bucket = \"dataham\""
   ]
  },
  {
   "cell_type": "code",
   "execution_count": 23,
   "metadata": {},
   "outputs": [],
   "source": [
    "filename_keras = \"/Generated_KERAS/images_augmented.npy\"\n",
    "\n",
    "blob = storage.blob.Blob(filename_keras, bucket)"
   ]
  },
  {
   "cell_type": "raw",
   "metadata": {},
   "source": [
    "!gsutil -m cp gs://dataham/Generated_KERAS/images_augmented.npy ./data_keras"
   ]
  },
  {
   "cell_type": "raw",
   "metadata": {},
   "source": [
    "!gsutil -m cp gs://dataham/Generated_KERAS/labels_augmented.npy ./data_keras"
   ]
  },
  {
   "cell_type": "markdown",
   "metadata": {},
   "source": [
    "## IMPORTANT FUNCTIONS "
   ]
  },
  {
   "cell_type": "code",
   "execution_count": 4,
   "metadata": {},
   "outputs": [],
   "source": [
    "####### SHUFFLE DATA ####### \n",
    "def shuffle_data(X, Y):\n",
    "    nb_rows = X.shape[0]\n",
    "    index_rand = np.arange(nb_rows)\n",
    "    np.random.shuffle(index_rand)\n",
    "    X_shuffle, Y_shuffle = X[index_rand], Y[index_rand]\n",
    "    return X_shuffle, Y_shuffle"
   ]
  },
  {
   "cell_type": "code",
   "execution_count": 5,
   "metadata": {},
   "outputs": [],
   "source": [
    "def concat_train_label(X1, X2, Y1, Y2):\n",
    "    nb_obs = X1.shape[0] + X2.shape[0]\n",
    "    X_aug = np.empty((nb_obs, 128, 128, 3))\n",
    "    Y_aug = np.empty((nb_obs,))\n",
    "    nb_obs_or = X1.shape[0]\n",
    "    \n",
    "    for k in range(X1.shape[0]):\n",
    "        X_aug[k] = X1[k]\n",
    "        Y_aug[k] = Y1[k]\n",
    "    \n",
    "    iteration = 0\n",
    "    while iteration != Y2.shape[0]:\n",
    "        X_aug[iteration+nb_obs_or] = X2[iteration]\n",
    "        Y_aug[iteration+nb_obs_or] = Y2[iteration]\n",
    "        iteration += 1\n",
    "        \n",
    "    return X_aug, Y_aug"
   ]
  },
  {
   "cell_type": "code",
   "execution_count": 31,
   "metadata": {},
   "outputs": [],
   "source": [
    "from sklearn.metrics import confusion_matrix\n",
    "from sklearn.utils.multiclass import unique_labels\n",
    "\n",
    "def plot_confusion_matrix(model, x_val = x_val, y_val = y_val, classes = np.array([0,1]),\n",
    "                          normalize=False,\n",
    "                          title=None,\n",
    "                          cmap=plt.cm.Blues):\n",
    "    \"\"\"\n",
    "    This function prints and plots the confusion matrix.\n",
    "    Normalization can be applied by setting `normalize=True`.\n",
    "    \"\"\"\n",
    "    \n",
    "    \n",
    "    y_pred = model.predict_classes(x_val)\n",
    "    y_true = y_val \n",
    "    if not title:\n",
    "        if normalize:\n",
    "            title = 'Normalized confusion matrix'\n",
    "        else:\n",
    "            title = 'Confusion matrix, without normalization'\n",
    "\n",
    "    # Compute confusion matrix\n",
    "    cm = confusion_matrix(y_true, y_pred)\n",
    "    if normalize:\n",
    "        cm = cm.astype('float') / cm.sum(axis=1)[:, np.newaxis]\n",
    "        print(\"Normalized confusion matrix\")\n",
    "    else:\n",
    "        print('Confusion matrix, without normalization')\n",
    "\n",
    "#     print(cm)\n",
    "    \n",
    "    fig, ax = plt.subplots(figsize = (15,10))\n",
    "    #fig = plt.figure((15,10))\n",
    "    im = ax.imshow(cm, interpolation='nearest', cmap=cmap)\n",
    "    ax.figure.colorbar(im, ax=ax)\n",
    "    # We want to show all ticks...\n",
    "    ax.set(xticks=np.arange(cm.shape[1]),\n",
    "           yticks=np.arange(cm.shape[0]),\n",
    "           # ... and label them with the respective list entries\n",
    "           xticklabels=classes, yticklabels=classes,\n",
    "           title=title,\n",
    "           ylabel='True label',\n",
    "           xlabel='Predicted label')\n",
    "\n",
    "    # Rotate the tick labels and set their alignment.\n",
    "    plt.setp(ax.get_xticklabels(), rotation=45, ha=\"right\",\n",
    "             rotation_mode=\"anchor\")\n",
    "\n",
    "    # Loop over data dimensions and create text annotations.\n",
    "    fmt = '.2f' if normalize else 'd'\n",
    "    thresh = cm.max() / 2.\n",
    "    for i in range(cm.shape[0]):\n",
    "        for j in range(cm.shape[1]):\n",
    "            ax.text(j, i, format(cm[i, j], fmt),\n",
    "                    ha=\"center\", va=\"center\",\n",
    "                    color=\"white\" if cm[i, j] > thresh else \"black\")\n",
    "    fig.tight_layout()\n",
    "    return ax\n",
    "\n",
    "# Plot non-normalized confusion matrix\n",
    "# plot_confusion_matrix(model_best2)\n",
    "\n",
    "# Plot normalized confusion matrix\n",
    "# plot_confusion_matrix(model_best2, normalize = True)\n",
    "\n",
    "# plt.show()"
   ]
  },
  {
   "cell_type": "markdown",
   "metadata": {},
   "source": [
    "# DATA"
   ]
  },
  {
   "cell_type": "markdown",
   "metadata": {},
   "source": [
    "######### DATASET  ######\n",
    "\n",
    "\n",
    "*** Class MEL: training: 698 , validation: 190\n",
    "\n",
    "*** Class NV: training: 4290 , validation: 1058"
   ]
  },
  {
   "cell_type": "code",
   "execution_count": 3,
   "metadata": {},
   "outputs": [],
   "source": [
    "#### FROM ORIGINAL DATASET WITHOUT KERAS #####\n",
    "\n",
    "#### LOAD DATA FROM LOCAL STORAGE ### \n",
    "\n",
    "###### MEL: class 1 ######\n",
    "x_mel_train, x_mel_test = np.load(\"./dataset/train_mel.npy\"), np.load(\"./dataset/test_mel.npy\")\n",
    "y_mel_train, y_mel_test = np.ones((x_mel_train.shape[0], )), np.ones((x_mel_test.shape[0], ))\n",
    "\n",
    "\n",
    "###### NV: class 0 ######\n",
    "x_nv_train, x_nv_test = np.load(\"./dataset/train_nv.npy\"), np.load(\"./dataset/test_nv.npy\")\n",
    "y_nv_train, y_nv_test = np.zeros((x_nv_train.shape[0], )), np.zeros((x_nv_test.shape[0], ))"
   ]
  },
  {
   "cell_type": "code",
   "execution_count": 6,
   "metadata": {},
   "outputs": [],
   "source": [
    "#### FROM ORIGINAL DATASET TRANSFORMED WITH KERAS #####\n",
    "\n",
    "#### LOAD DATA FROM LOCAL STORAGE ### \n",
    "\n",
    "filename_local_images_keras = './data_keras/images_augmented.npy'\n",
    "filename_local_labels_keras = './data_keras/labels_augmented.npy'\n",
    "\n",
    "array_images_ker = np.load(filename_local_images_keras)\n",
    "array_labels_ker = np.load(filename_local_labels_keras)"
   ]
  },
  {
   "cell_type": "code",
   "execution_count": 4,
   "metadata": {
    "collapsed": true
   },
   "outputs": [],
   "source": [
    "# del array_images_ker, array_labels_ker"
   ]
  },
  {
   "cell_type": "code",
   "execution_count": 54,
   "metadata": {},
   "outputs": [
    {
     "name": "stdout",
     "output_type": "stream",
     "text": [
      "We have 5348 images of class nv.\n",
      "=================================\n",
      "We have 888 images of class mel.\n"
     ]
    }
   ],
   "source": [
    "nb_nv = np.sum(array_labels_ker == 0) ## nv with class label 0\n",
    "nb_mel = np.sum(array_labels_ker == 1) ## mel with class label 1\n",
    "\n",
    "print (\"We have {} images of class nv.\".format(nb_nv))\n",
    "\n",
    "print(\"=================================\")\n",
    "\n",
    "print (\"We have {} images of class mel.\".format(nb_mel))"
   ]
  },
  {
   "cell_type": "code",
   "execution_count": 7,
   "metadata": {},
   "outputs": [],
   "source": [
    "######### CAREFUL: THE DATA DOWN HERE IS THE DATA AFTER SOME TRANSF WITH KERAS ##############\n",
    "\n",
    "def split_data(factor = 0.8):\n",
    "    \"\"\"\n",
    "    Params \n",
    "    --------------\n",
    "    factor: float \n",
    "    We want 80% data in train set and 20% in validation set\n",
    "    Return\n",
    "    --------------\n",
    "    x_train, y_train, x_val, y_val\n",
    "    \"\"\"\n",
    "    boundary_val = np.int(6236*factor) # 6236 corresponds to total nb of images\n",
    "    x_train, y_train = array_images_ker[0:boundary_val], array_labels_ker[0:boundary_val]\n",
    "    x_val, y_val = array_images_ker[boundary_val:], array_labels_ker[boundary_val:]\n",
    "    return (x_train, y_train), (x_val, y_val)\n",
    "\n",
    "(x_train, y_train), (x_val, y_val) = split_data()    "
   ]
  },
  {
   "cell_type": "code",
   "execution_count": 77,
   "metadata": {},
   "outputs": [
    {
     "name": "stdout",
     "output_type": "stream",
     "text": [
      "============= ORIGINAL ==================\n",
      "Original data, class nv percentage: 85.76010262989095\n",
      "Original data, class mel percentage: 14.239897370109045\n",
      "============= TRAINING ==================\n",
      "Train data, class nv percentage: 86.00641539695269\n",
      "Train data, class mel percentage: 13.993584603047312\n",
      "============= VALIDATION ==================\n",
      "Val data, class nv percentage: 84.77564102564102\n",
      "Val data, class mel percentage: 15.224358974358973\n"
     ]
    }
   ],
   "source": [
    "######### ORIGINAL ##########\n",
    "percentage_nv_org = (nb_nv/(nb_nv+nb_mel))*100\n",
    "percentage_mel_org = (nb_mel/(nb_nv+nb_mel))*100\n",
    "print(\"============= ORIGINAL ==================\")\n",
    "print(\"Original data, class nv percentage: {}\".format(percentage_nv_org))\n",
    "print(\"Original data, class mel percentage: {}\".format(percentage_mel_org))\n",
    "\n",
    "\n",
    "\n",
    "###### TRAIN ############\n",
    "nb_nv_train = np.sum(y_train == 0)\n",
    "nb_mel_train = np.sum(y_train == 1)\n",
    "percentage_nv_train = (nb_nv_train/(nb_nv_train+nb_mel_train))*100\n",
    "percentage_mel_train= (nb_mel_train/(nb_nv_train+nb_mel_train))*100\n",
    "print(\"============= TRAINING ==================\")\n",
    "print(\"Train data, class nv percentage: {}\".format(percentage_nv_train))\n",
    "print(\"Train data, class mel percentage: {}\".format(percentage_mel_train))\n",
    "\n",
    "\n",
    "########### VAL ##########\n",
    "nb_nv_val = np.sum(y_val == 0)\n",
    "nb_mel_val = np.sum(y_val == 1)\n",
    "percentage_nv_val = (nb_nv_val/(nb_nv_val+nb_mel_val))*100\n",
    "percentage_mel_val = (nb_mel_val/(nb_nv_val+nb_mel_val))*100\n",
    "print(\"============= VALIDATION ==================\")\n",
    "print(\"Val data, class nv percentage: {}\".format(percentage_nv_val))\n",
    "print(\"Val data, class mel percentage: {}\".format(percentage_mel_val))"
   ]
  },
  {
   "cell_type": "markdown",
   "metadata": {},
   "source": [
    "# Simple convolutional Layer"
   ]
  },
  {
   "cell_type": "code",
   "execution_count": 10,
   "metadata": {},
   "outputs": [
    {
     "name": "stderr",
     "output_type": "stream",
     "text": [
      "Using TensorFlow backend.\n"
     ]
    }
   ],
   "source": [
    "from keras import backend as K\n",
    "\n",
    "from keras.models import Sequential\n",
    "from keras.layers import Conv2D, MaxPooling2D\n",
    "from keras.layers import Activation, Dropout, Flatten, Dense\n",
    "from collections import Counter \n",
    "from keras import backend as K\n",
    "from keras import optimizers\n",
    "from keras.callbacks import CSVLogger\n",
    "\n",
    "csv_logger = CSVLogger('log.csv', append=True, separator=';')\n",
    "\n",
    "\n",
    "\n",
    "def evaluate_classifier_conv(x_train = x_train, y_train = y_train, x_val = x_val, y_val = y_val, img_rows = 128, img_cols = 128, batch_size = 32, epochs = 20, learning_rate = 0.01, dropout = 0.7, log = True):\n",
    "    \"\"\"\n",
    "    Create simple convolutional model to classify data\n",
    "    Fit data and return fitted model \n",
    "    \"\"\"\n",
    "    \n",
    "    K.clear_session()\n",
    "    np.random.seed(100)\n",
    "\n",
    "    if K.image_data_format() == 'channels_first':\n",
    "        x_train = x_train.reshape(x_train.shape[0], 3, img_rows, img_cols)\n",
    "        x_val = x_val.reshape(x_val.shape[0], 3, img_rows, img_cols)\n",
    "        input_shape = (3, img_rows, img_cols)\n",
    "    else:\n",
    "        x_train = x_train.reshape(x_train.shape[0], img_rows, img_cols, 3)\n",
    "        x_val = x_val.reshape(x_val.shape[0], img_rows, img_cols, 3)\n",
    "        input_shape = (img_rows, img_cols, 3)\n",
    "\n",
    "    model = Sequential()\n",
    "    model.add(Conv2D(32, (3, 3), input_shape=(128, 128,3)))\n",
    "    model.add(Activation('relu'))\n",
    "    model.add(MaxPooling2D(pool_size=(2, 2)))\n",
    "\n",
    "    model.add(Conv2D(32, (3, 3)))\n",
    "    model.add(Activation('relu'))\n",
    "    model.add(MaxPooling2D(pool_size=(2, 2)))\n",
    "\n",
    "    model.add(Conv2D(64, (3, 3)))\n",
    "    model.add(Activation('relu'))\n",
    "    model.add(MaxPooling2D(pool_size=(2, 2)))\n",
    "\n",
    "    model.add(Flatten())  # this converts our 3D feature maps to 1D feature vectors\n",
    "    model.add(Dense(64))\n",
    "    model.add(Activation('relu'))\n",
    "    model.add(Dropout(dropout))\n",
    "    model.add(Dense(1))\n",
    "    model.add(Activation('sigmoid'))\n",
    "\n",
    "\n",
    "    # initiate RMSprop optimizer\n",
    "    opt = optimizers.rmsprop(lr=learning_rate, decay = 1e-5)\n",
    "\n",
    "    model.compile(loss='binary_crossentropy',\n",
    "                  optimizer=opt,\n",
    "                  metrics=['accuracy'])\n",
    "    \n",
    "    if log:\n",
    "        # Fit data \n",
    "        model.fit(x_train, y_train,\n",
    "                  batch_size=batch_size,\n",
    "                  epochs=epochs,\n",
    "                  verbose=1,\n",
    "                  validation_data=(x_val, y_val),\n",
    "                    callbacks=[csv_logger])\n",
    "    else:\n",
    "         # Fit data \n",
    "        model.fit(x_train, y_train,\n",
    "                  batch_size=batch_size,\n",
    "                  epochs=epochs,\n",
    "                  verbose=1,\n",
    "                  validation_data=(x_val, y_val))\n",
    "\n",
    "    # Compute final performance on validation data\n",
    "    score = model.evaluate(x_val, y_val, verbose=0)\n",
    "    print('Final validation loss:', score[0])\n",
    "    print('Final validation accuracy:', score[1])\n",
    "    \n",
    "    return model  "
   ]
  },
  {
   "cell_type": "code",
   "execution_count": 26,
   "metadata": {},
   "outputs": [],
   "source": [
    "import tensorflow as tf \n",
    "from keras.models import Sequential\n",
    "from keras.layers import Conv2D, MaxPooling2D\n",
    "from keras.layers import Activation, Dropout, Flatten, Dense\n",
    "from collections import Counter \n",
    "from keras import backend as K\n",
    "from keras import optimizers\n",
    "from keras.callbacks import CSVLogger\n",
    "from keras.callbacks import ModelCheckpoint\n",
    "\n",
    "from keras.callbacks import Callback\n",
    "\n",
    "from sklearn.metrics import f1_score\n",
    "\n",
    "\n",
    "csv_logger = CSVLogger('log.csv', append=True, separator=';')\n",
    "\n",
    "\n",
    "\n",
    "    \n",
    "    \n",
    "class EarlyStopByF1(Callback):\n",
    "    def __init__(self, value = 0, verbose = 0):\n",
    "        super(Callback, self).__init__()\n",
    "        self.value = value\n",
    "        self.verbose = verbose\n",
    "\n",
    "    def f1(self, y_true, y_pred):\n",
    "        def recall(y_true, y_pred):\n",
    "            \"\"\"Recall metric.\n",
    "\n",
    "            Only computes a batch-wise average of recall.\n",
    "\n",
    "            Computes the recall, a metric for multi-label classification of\n",
    "            how many relevant items are selected.\n",
    "            \"\"\"\n",
    "            true_positives = K.sum(K.round(K.clip(y_true * y_pred, 0, 1)))\n",
    "            possible_positives = K.sum(K.round(K.clip(y_true, 0, 1)))\n",
    "            recall = true_positives / (possible_positives + K.epsilon())\n",
    "            return recall\n",
    "\n",
    "        def precision(y_true, y_pred):\n",
    "            \"\"\"Precision metric.\n",
    "\n",
    "            Only computes a batch-wise average of precision.\n",
    "\n",
    "            Computes the precision, a metric for multi-label classification of\n",
    "            how many selected items are relevant.\n",
    "            \"\"\"\n",
    "            true_positives = K.sum(K.round(K.clip(y_true * y_pred, 0, 1)))\n",
    "            predicted_positives = K.sum(K.round(K.clip(y_pred, 0, 1)))\n",
    "            precision = true_positives / (predicted_positives + K.epsilon())\n",
    "            return precision\n",
    "        precision = precision(y_true, y_pred)\n",
    "        recall = recall(y_true, y_pred)\n",
    "        return 2*((precision*recall)/(precision+recall+K.epsilon()))\n",
    "    \n",
    "    \n",
    "    def on_epoch_end(self, epoch, logs={}):\n",
    "        predict = np.asarray(self.model.predict(self.validation_data[0]))\n",
    "        target = self.validation_data[1]\n",
    "        predict = tf.convert_to_tensor(predict, tf.float32)\n",
    "        target = tf.convert_to_tensor(target, tf.float32)\n",
    "        score = self.f1(target, predict) # score is now a tf.tensor (necessary for early stopping)\n",
    "#         print (type(score)) # tensor \n",
    "        tensor_value = tf.constant(self.value, shape = (1,))\n",
    "        with tf.Session() as sess:\n",
    "            tensor_value_score = sess.run(tf.greater(score, tensor_value))\n",
    "#             print(sess.run(tf.greater(score, tensor_value))) ## prints [True] when we go beyond self.value\n",
    " \n",
    "        if np.all(tensor_value_score):# if we go beyond our value, we can stop \n",
    "            if self.verbose > 0: # print\n",
    "                print(\"Epoch %05d: early stopping Threshold\" % epoch)\n",
    "            self.model.stop_training = True\n",
    "\n",
    "\n",
    "########## Customize Early Stopping ###########\n",
    "from keras.callbacks import Callback\n",
    "\n",
    "class EarlyStoppingByAccuracy(Callback):\n",
    "    \"\"\"\n",
    "    When checking the logs we see that sometimes we get a very low val loss/ high val accuracy at some epoch and after we go below such values.\n",
    "    Solution:  We will check when such accuracy is reached and stop at this very moment \n",
    "    \n",
    "    PARAMS\n",
    "    --------------------------\n",
    "    value: int v\n",
    "    Value that is seen to be passed for a given epoch => If we are beyond it we stop training!! \n",
    "    \n",
    "    \"\"\"\n",
    "    def __init__(self, monitor='accuracy', value=0.85, verbose=0):\n",
    "        super(Callback, self).__init__()\n",
    "        self.monitor = monitor\n",
    "        self.value = value\n",
    "        self.verbose = verbose\n",
    "\n",
    "    def on_epoch_end(self, epoch, logs={}):\n",
    "        current = logs.get(self.monitor)\n",
    "        if current is None:\n",
    "            warnings.warn(\"Early stopping requires %s available!\" % self.monitor, RuntimeWarning)\n",
    "\n",
    "        if current >= self.value:\n",
    "            if self.verbose > 0:\n",
    "                print(\"Epoch %05d: early stopping THR\" % epoch)\n",
    "            self.model.stop_training = True\n",
    "            \n",
    "def evaluate_classifier_conv_custom_fscore(x_train, y_train, x_val, y_val, img_rows = 128, img_cols = 128, \n",
    "                                           batch_size = 32, epochs = 20, learning_rate = 0.01, \n",
    "                                           dropout = 0.7, log = True, threshold_acc = 0.87, name_model = 'stack', threshold_fscore = 0.5):\n",
    "    \"\"\"\n",
    "    Create simple convolutional model to classify data\n",
    "    Fit data and return fitted model \n",
    "    \n",
    "    Custom callback\n",
    "    \"\"\"\n",
    "    \n",
    "    K.clear_session()\n",
    "    np.random.seed(100)\n",
    "\n",
    "    if K.image_data_format() == 'channels_first':\n",
    "        x_train = x_train.reshape(x_train.shape[0], 3, img_rows, img_cols)\n",
    "        x_val = x_val.reshape(x_val.shape[0], 3, img_rows, img_cols)\n",
    "        input_shape = (3, img_rows, img_cols)\n",
    "    else:\n",
    "        x_train = x_train.reshape(x_train.shape[0], img_rows, img_cols, 3)\n",
    "        x_val = x_val.reshape(x_val.shape[0], img_rows, img_cols, 3)\n",
    "        input_shape = (img_rows, img_cols, 3)\n",
    "\n",
    "    model = Sequential()\n",
    "    model.add(Conv2D(32, (3, 3), input_shape=(128, 128,3)))\n",
    "    model.add(Activation('relu'))\n",
    "    model.add(MaxPooling2D(pool_size=(2, 2)))\n",
    "\n",
    "    model.add(Conv2D(32, (3, 3)))\n",
    "    model.add(Activation('relu'))\n",
    "    model.add(MaxPooling2D(pool_size=(2, 2)))\n",
    "\n",
    "    model.add(Conv2D(64, (3, 3)))\n",
    "    model.add(Activation('relu'))\n",
    "    model.add(MaxPooling2D(pool_size=(2, 2)))\n",
    "\n",
    "    model.add(Flatten())  # this converts our 3D feature maps to 1D feature vectors\n",
    "    model.add(Dense(64))\n",
    "    model.add(Activation('relu'))\n",
    "    model.add(Dropout(dropout))\n",
    "    model.add(Dense(1))\n",
    "    model.add(Activation('sigmoid'))\n",
    "    \n",
    "    def recall(y_true, y_pred):\n",
    "            \"\"\"Recall metric.\n",
    "\n",
    "            Only computes a batch-wise average of recall.\n",
    "\n",
    "            Computes the recall, a metric for multi-label classification of\n",
    "            how many relevant items are selected.\n",
    "            \"\"\"\n",
    "            true_positives = K.sum(K.round(K.clip(y_true * y_pred, 0, 1)))\n",
    "            possible_positives = K.sum(K.round(K.clip(y_true, 0, 1)))\n",
    "            recall = true_positives / (possible_positives + K.epsilon())\n",
    "            return recall\n",
    "    \n",
    "    def f1(y_true, y_pred):\n",
    "        def recall(y_true, y_pred):\n",
    "            \"\"\"Recall metric.\n",
    "\n",
    "            Only computes a batch-wise average of recall.\n",
    "\n",
    "            Computes the recall, a metric for multi-label classification of\n",
    "            how many relevant items are selected.\n",
    "            \"\"\"\n",
    "            true_positives = K.sum(K.round(K.clip(y_true * y_pred, 0, 1)))\n",
    "            possible_positives = K.sum(K.round(K.clip(y_true, 0, 1)))\n",
    "            recall = true_positives / (possible_positives + K.epsilon())\n",
    "            return recall\n",
    "\n",
    "        def precision(y_true, y_pred):\n",
    "            \"\"\"Precision metric.\n",
    "\n",
    "            Only computes a batch-wise average of precision.\n",
    "\n",
    "            Computes the precision, a metric for multi-label classification of\n",
    "            how many selected items are relevant.\n",
    "            \"\"\"\n",
    "            true_positives = K.sum(K.round(K.clip(y_true * y_pred, 0, 1)))\n",
    "            predicted_positives = K.sum(K.round(K.clip(y_pred, 0, 1)))\n",
    "            precision = true_positives / (predicted_positives + K.epsilon())\n",
    "            return precision\n",
    "        precision = precision(y_true, y_pred)\n",
    "        recall = recall(y_true, y_pred)\n",
    "        return 2*((precision*recall)/(precision+recall+K.epsilon()))\n",
    "\n",
    "\n",
    "\n",
    "    # initiate RMSprop optimizer\n",
    "    opt = optimizers.rmsprop(lr=learning_rate, decay = 1e-5)\n",
    "\n",
    "    model.compile(loss='binary_crossentropy',\n",
    "                  optimizer=opt,\n",
    "                  metrics=['accuracy', f1, recall])\n",
    "    \n",
    "    \n",
    "    kfold_weights_path = \"best_model{}.hdf5\".format(name_model)\n",
    "    callbacks = [\n",
    "                EarlyStoppingByAccuracy(monitor='val_acc', value=threshold_acc, verbose=1), # early stopping based on validation accuracy \n",
    "                ModelCheckpoint(kfold_weights_path, monitor='f1', save_best_only=True, verbose=0),\n",
    "                EarlyStopByF1(value = threshold_fscore, verbose = 1) # early stopping based on f1 score\n",
    "                ]\n",
    "\n",
    "    if log:\n",
    "        callbacks.append(csv_logger)\n",
    "        # Fit data \n",
    "        model.fit(x_train, y_train,\n",
    "                  batch_size=batch_size,\n",
    "                  epochs=epochs,\n",
    "                  verbose=1,\n",
    "                  validation_data=(x_val, y_val),\n",
    "                    callbacks = callbacks)\n",
    "        \n",
    "    else:\n",
    "        \n",
    "        # Fit data \n",
    "        model.fit(x_train, y_train,\n",
    "                  batch_size=batch_size,\n",
    "                  epochs=epochs,\n",
    "                  verbose=1,\n",
    "                  validation_data=(x_val, y_val),\n",
    "                  callbacks = callbacks)\n",
    "\n",
    "        \n",
    "    # Compute final performance on validation data\n",
    "    score = model.evaluate(x_val, y_val, verbose=0)\n",
    "    print('Final validation loss:', score[0])\n",
    "    print('Final validation accuracy:', score[1])\n",
    "    \n",
    "    return model  "
   ]
  },
  {
   "cell_type": "markdown",
   "metadata": {},
   "source": [
    "# MOBILENET VERSION2 "
   ]
  },
  {
   "cell_type": "code",
   "execution_count": null,
   "metadata": {
    "collapsed": true
   },
   "outputs": [],
   "source": [
    "def get_one_hot(y_in):\n",
    "    one_hot = np.zeros((y_in.shape[0], 2))\n",
    "    for i in np.arange(y_in.shape[0]):\n",
    "        one_hot[i][int(y_in[i])] = 1\n",
    "    return one_hot\n",
    "\n",
    "y_train_one_hot = get_one_hot(y_train)\n",
    "y_val_one_hot = get_one_hot(y_val)\n",
    "\n",
    "y_train_one_hot_aug_stacked = get_one_hot(y_train_aug_stacked)\n",
    "y_train_one_hot_aug_simple = get_one_hot(y_train_aug_simple)\n",
    "y_train_one_hot_aug_strong = get_one_hot(y_train_aug_strong)"
   ]
  },
  {
   "cell_type": "code",
   "execution_count": null,
   "metadata": {},
   "outputs": [],
   "source": [
    "def build_model():\n",
    "    input_tensor = Input(shape=(128, 128, 3))\n",
    "    base_model = MobileNetV2(\n",
    "        include_top=False,\n",
    "        weights='imagenet',\n",
    "        input_tensor=input_tensor,\n",
    "        input_shape=(128, 128, 3),\n",
    "        pooling='avg')\n",
    "\n",
    "    for layer in base_model.layers:\n",
    "        layer.trainable = True\n",
    "    for layer in base_model.layers[:FREEZE_NO]:\n",
    "        layer.trainable = False\n",
    "\n",
    "    op = Dense(128, activation='relu')(base_model.output)\n",
    "    op = Dropout(DROPOUT_RATIO)(op)\n",
    "\n",
    "    output_tensor = Dense(2, activation='softmax')(op)\n",
    "\n",
    "    model = Model(inputs=input_tensor, outputs=output_tensor)\n",
    "    model.compile(optimizer=Adam(lr=0.000005),\n",
    "              loss='categorical_crossentropy',\n",
    "              metrics=['categorical_accuracy'])\n",
    "    \n",
    "    return model\n",
    "\n",
    "model_noaug = build_model()\n",
    "model_stacked = build_model()\n",
    "model_simple = build_model()\n",
    "model_strong = build_model()"
   ]
  },
  {
   "cell_type": "code",
   "execution_count": null,
   "metadata": {
    "collapsed": true
   },
   "outputs": [],
   "source": [
    "def train(model, train_data, val_data):\n",
    "    history = model.fit(train_data[0], train_data[1],\n",
    "            batch_size=BATCH_SIZE,\n",
    "            epochs=EPOCH_NO,\n",
    "            validation_data=(val_data))\n",
    "    return history\n",
    "history_strong = train(model_strong, (x_train_aug_strong, y_train_one_hot_aug_strong), (x_val, y_val_one_hot))"
   ]
  },
  {
   "cell_type": "markdown",
   "metadata": {},
   "source": [
    "#### WITHOUT DATA AUGMENTATION`"
   ]
  },
  {
   "cell_type": "code",
   "execution_count": null,
   "metadata": {
    "collapsed": true
   },
   "outputs": [],
   "source": [
    "##### PARAMS FOR ORIGINAL DATASET #####\n",
    "model_params_org = { \n",
    "                    \"x_train\": x_train, \n",
    "                    \"y_train\": y_train, \n",
    "                    \"x_val\": x_val, \n",
    "                    \"y_val\": y_val\n",
    "                    \"img_rows\": 128,\n",
    "                    \"img_cols\": 128,\n",
    "                    \"batch_size\": 32, \n",
    "                    \"epochs\": 20, \n",
    "                    \"learning_rate\": 0.01\n",
    "                    \"dropout\": 0.7\n",
    "                    }"
   ]
  },
  {
   "cell_type": "code",
   "execution_count": null,
   "metadata": {
    "collapsed": true
   },
   "outputs": [],
   "source": [
    "model_original_conv = evaluate_classifier_conv(**model_params_org)"
   ]
  },
  {
   "cell_type": "code",
   "execution_count": 85,
   "metadata": {},
   "outputs": [
    {
     "data": {
      "text/html": [
       "<div>\n",
       "<style scoped>\n",
       "    .dataframe tbody tr th:only-of-type {\n",
       "        vertical-align: middle;\n",
       "    }\n",
       "\n",
       "    .dataframe tbody tr th {\n",
       "        vertical-align: top;\n",
       "    }\n",
       "\n",
       "    .dataframe thead th {\n",
       "        text-align: right;\n",
       "    }\n",
       "</style>\n",
       "<table border=\"1\" class=\"dataframe\">\n",
       "  <thead>\n",
       "    <tr style=\"text-align: right;\">\n",
       "      <th></th>\n",
       "      <th>epoch</th>\n",
       "      <th>acc</th>\n",
       "      <th>loss</th>\n",
       "      <th>val_acc</th>\n",
       "      <th>val_loss</th>\n",
       "    </tr>\n",
       "  </thead>\n",
       "  <tbody>\n",
       "    <tr>\n",
       "      <th>0</th>\n",
       "      <td>0</td>\n",
       "      <td>0.859663</td>\n",
       "      <td>2.254287</td>\n",
       "      <td>0.847756</td>\n",
       "      <td>2.453877</td>\n",
       "    </tr>\n",
       "    <tr>\n",
       "      <th>1</th>\n",
       "      <td>1</td>\n",
       "      <td>0.860064</td>\n",
       "      <td>2.255499</td>\n",
       "      <td>0.847756</td>\n",
       "      <td>2.453877</td>\n",
       "    </tr>\n",
       "    <tr>\n",
       "      <th>2</th>\n",
       "      <td>2</td>\n",
       "      <td>0.860064</td>\n",
       "      <td>2.255499</td>\n",
       "      <td>0.847756</td>\n",
       "      <td>2.453877</td>\n",
       "    </tr>\n",
       "    <tr>\n",
       "      <th>3</th>\n",
       "      <td>3</td>\n",
       "      <td>0.860064</td>\n",
       "      <td>2.255499</td>\n",
       "      <td>0.847756</td>\n",
       "      <td>2.453877</td>\n",
       "    </tr>\n",
       "    <tr>\n",
       "      <th>4</th>\n",
       "      <td>4</td>\n",
       "      <td>0.860064</td>\n",
       "      <td>2.255499</td>\n",
       "      <td>0.847756</td>\n",
       "      <td>2.453877</td>\n",
       "    </tr>\n",
       "    <tr>\n",
       "      <th>5</th>\n",
       "      <td>5</td>\n",
       "      <td>0.860064</td>\n",
       "      <td>2.255499</td>\n",
       "      <td>0.847756</td>\n",
       "      <td>2.453877</td>\n",
       "    </tr>\n",
       "    <tr>\n",
       "      <th>6</th>\n",
       "      <td>6</td>\n",
       "      <td>0.860064</td>\n",
       "      <td>2.255499</td>\n",
       "      <td>0.847756</td>\n",
       "      <td>2.453877</td>\n",
       "    </tr>\n",
       "    <tr>\n",
       "      <th>7</th>\n",
       "      <td>7</td>\n",
       "      <td>0.860064</td>\n",
       "      <td>2.255499</td>\n",
       "      <td>0.847756</td>\n",
       "      <td>2.453877</td>\n",
       "    </tr>\n",
       "    <tr>\n",
       "      <th>8</th>\n",
       "      <td>8</td>\n",
       "      <td>0.860064</td>\n",
       "      <td>2.255499</td>\n",
       "      <td>0.847756</td>\n",
       "      <td>2.453877</td>\n",
       "    </tr>\n",
       "    <tr>\n",
       "      <th>9</th>\n",
       "      <td>9</td>\n",
       "      <td>0.860064</td>\n",
       "      <td>2.255499</td>\n",
       "      <td>0.847756</td>\n",
       "      <td>2.453877</td>\n",
       "    </tr>\n",
       "    <tr>\n",
       "      <th>10</th>\n",
       "      <td>10</td>\n",
       "      <td>0.860064</td>\n",
       "      <td>2.255499</td>\n",
       "      <td>0.847756</td>\n",
       "      <td>2.453877</td>\n",
       "    </tr>\n",
       "    <tr>\n",
       "      <th>11</th>\n",
       "      <td>11</td>\n",
       "      <td>0.860064</td>\n",
       "      <td>2.255499</td>\n",
       "      <td>0.847756</td>\n",
       "      <td>2.453877</td>\n",
       "    </tr>\n",
       "    <tr>\n",
       "      <th>12</th>\n",
       "      <td>12</td>\n",
       "      <td>0.860064</td>\n",
       "      <td>2.255499</td>\n",
       "      <td>0.847756</td>\n",
       "      <td>2.453877</td>\n",
       "    </tr>\n",
       "    <tr>\n",
       "      <th>13</th>\n",
       "      <td>13</td>\n",
       "      <td>0.860064</td>\n",
       "      <td>2.255499</td>\n",
       "      <td>0.847756</td>\n",
       "      <td>2.453877</td>\n",
       "    </tr>\n",
       "    <tr>\n",
       "      <th>14</th>\n",
       "      <td>14</td>\n",
       "      <td>0.860064</td>\n",
       "      <td>2.255499</td>\n",
       "      <td>0.847756</td>\n",
       "      <td>2.453877</td>\n",
       "    </tr>\n",
       "    <tr>\n",
       "      <th>15</th>\n",
       "      <td>15</td>\n",
       "      <td>0.860064</td>\n",
       "      <td>2.255499</td>\n",
       "      <td>0.847756</td>\n",
       "      <td>2.453877</td>\n",
       "    </tr>\n",
       "    <tr>\n",
       "      <th>16</th>\n",
       "      <td>16</td>\n",
       "      <td>0.860064</td>\n",
       "      <td>2.255499</td>\n",
       "      <td>0.847756</td>\n",
       "      <td>2.453877</td>\n",
       "    </tr>\n",
       "    <tr>\n",
       "      <th>17</th>\n",
       "      <td>17</td>\n",
       "      <td>0.860064</td>\n",
       "      <td>2.255499</td>\n",
       "      <td>0.847756</td>\n",
       "      <td>2.453877</td>\n",
       "    </tr>\n",
       "    <tr>\n",
       "      <th>18</th>\n",
       "      <td>18</td>\n",
       "      <td>0.860064</td>\n",
       "      <td>2.255499</td>\n",
       "      <td>0.847756</td>\n",
       "      <td>2.453877</td>\n",
       "    </tr>\n",
       "    <tr>\n",
       "      <th>19</th>\n",
       "      <td>19</td>\n",
       "      <td>0.860064</td>\n",
       "      <td>2.255499</td>\n",
       "      <td>0.847756</td>\n",
       "      <td>2.453877</td>\n",
       "    </tr>\n",
       "  </tbody>\n",
       "</table>\n",
       "</div>"
      ],
      "text/plain": [
       "    epoch       acc      loss   val_acc  val_loss\n",
       "0       0  0.859663  2.254287  0.847756  2.453877\n",
       "1       1  0.860064  2.255499  0.847756  2.453877\n",
       "2       2  0.860064  2.255499  0.847756  2.453877\n",
       "3       3  0.860064  2.255499  0.847756  2.453877\n",
       "4       4  0.860064  2.255499  0.847756  2.453877\n",
       "5       5  0.860064  2.255499  0.847756  2.453877\n",
       "6       6  0.860064  2.255499  0.847756  2.453877\n",
       "7       7  0.860064  2.255499  0.847756  2.453877\n",
       "8       8  0.860064  2.255499  0.847756  2.453877\n",
       "9       9  0.860064  2.255499  0.847756  2.453877\n",
       "10     10  0.860064  2.255499  0.847756  2.453877\n",
       "11     11  0.860064  2.255499  0.847756  2.453877\n",
       "12     12  0.860064  2.255499  0.847756  2.453877\n",
       "13     13  0.860064  2.255499  0.847756  2.453877\n",
       "14     14  0.860064  2.255499  0.847756  2.453877\n",
       "15     15  0.860064  2.255499  0.847756  2.453877\n",
       "16     16  0.860064  2.255499  0.847756  2.453877\n",
       "17     17  0.860064  2.255499  0.847756  2.453877\n",
       "18     18  0.860064  2.255499  0.847756  2.453877\n",
       "19     19  0.860064  2.255499  0.847756  2.453877"
      ]
     },
     "execution_count": 85,
     "metadata": {},
     "output_type": "execute_result"
    }
   ],
   "source": [
    "log_training = pd.read_csv(\"./log.csv\", sep = \";\")\n",
    "log_training"
   ]
  },
  {
   "cell_type": "code",
   "execution_count": 92,
   "metadata": {},
   "outputs": [
    {
     "name": "stdout",
     "output_type": "stream",
     "text": [
      "============ Class NV ========= \n",
      "Accuracy on images on nv class fromn validation data: 1.0\n",
      "============ Class MEL ========= \n",
      "Accuracy on images on mel class fromn validation data: 0.0\n"
     ]
    }
   ],
   "source": [
    "index_nv_val = np.where( y_val == 0 )\n",
    "index_mel_val = np.where( y_val == 1 )\n",
    "\n",
    "score_nv = model.evaluate(x_val[index_nv_val], y_val[index_nv_val], verbose=0)\n",
    "score_mel = model.evaluate(x_val[index_mel_val], y_val[index_mel_val], verbose=0)\n",
    "\n",
    "print(\"============ Class NV ========= \")\n",
    "print(\"Accuracy on images on nv class fromn validation data: {}\".format(score_nv[1]))\n",
    "\n",
    "print(\"============ Class MEL ========= \")\n",
    "print(\"Accuracy on images on mel class fromn validation data: {}\".format(score_mel[1]))"
   ]
  },
  {
   "cell_type": "markdown",
   "metadata": {},
   "source": [
    "#### WITH DATA AUGMENTATION`"
   ]
  },
  {
   "cell_type": "code",
   "execution_count": 9,
   "metadata": {
    "collapsed": true
   },
   "outputs": [],
   "source": [
    "############ TRANSFORMATIONS WITH NUMPY ##########\n",
    "import numpy as np\n",
    "from PIL import Image\n",
    "from scipy.misc import imresize\n",
    "from scipy.ndimage.interpolation import rotate\n",
    "\n",
    "\n",
    "def resize(image, size):\n",
    "    size = check_size(size)\n",
    "    image = imresize(image, size)\n",
    "    return image\n",
    "\n",
    "def check_size(size):\n",
    "    if type(size) == int:\n",
    "        size = (size, size)\n",
    "    if type(size) != tuple:\n",
    "        raise TypeError('size is int or tuple')\n",
    "    return size\n",
    "\n",
    "def random_crop(image, crop_size):\n",
    "    crop_size = check_size(crop_size)\n",
    "    h, w, _ = image.shape\n",
    "    top = np.random.randint(0, h - crop_size[0])\n",
    "    left = np.random.randint(0, w - crop_size[1])\n",
    "    bottom = top + crop_size[0]\n",
    "    right = left + crop_size[1]\n",
    "    image = image[top:bottom, left:right, :]\n",
    "    return image\n",
    "\n",
    "\n",
    "def horizontal_flip(image, rate=0.5):\n",
    "    if np.random.rand() < rate:\n",
    "        image = image[:, ::-1, :]\n",
    "    return image\n",
    "\n",
    "\n",
    "def vertical_flip(image, rate=0.5):\n",
    "    if np.random.rand() < rate:\n",
    "        image = image[::-1, :, :]\n",
    "    return image\n",
    "\n",
    "\n",
    "def scale_augmentation(image, scale_range, crop_size):\n",
    "    scale_size = np.random.randint(*scale_range)\n",
    "    image = imresize(image, (scale_size, scale_size))\n",
    "    image = random_crop(image, crop_size)\n",
    "    return image\n",
    "\n",
    "\n",
    "def random_rotation(image, angle_range=(0, 180)):\n",
    "    h, w, _ = image.shape\n",
    "    angle = np.random.randint(*angle_range)\n",
    "    image = rotate(image, angle)\n",
    "    image = resize(image, (h, w))\n",
    "    return image"
   ]
  },
  {
   "cell_type": "code",
   "execution_count": 11,
   "metadata": {
    "collapsed": true
   },
   "outputs": [],
   "source": [
    "transf_arr = [\"random_rotation\", \"vertical_flip\", \"horizontal_flip\" ]"
   ]
  },
  {
   "cell_type": "markdown",
   "metadata": {},
   "source": [
    "## DO NOT RUN AGAIN"
   ]
  },
  {
   "cell_type": "code",
   "execution_count": 11,
   "metadata": {},
   "outputs": [
    {
     "name": "stderr",
     "output_type": "stream",
     "text": [
      "/usr/local/lib/python3.5/dist-packages/ipykernel_launcher.py:10: DeprecationWarning: `imresize` is deprecated!\n",
      "`imresize` is deprecated in SciPy 1.0.0, and will be removed in 1.3.0.\n",
      "Use Pillow instead: ``numpy.array(Image.fromarray(arr).resize())``.\n",
      "  # Remove the CWD from sys.path while we load stuff.\n"
     ]
    },
    {
     "name": "stdout",
     "output_type": "stream",
     "text": [
      "==========================\n",
      "Nice! 1000 steps done already :) \n"
     ]
    }
   ],
   "source": [
    "#### We are going to augment only the training data so that both classes in the training data have the same proportion ####\n",
    "x_train_copy, y_train_copy = np.copy(x_train), np.copy(y_train)\n",
    "\n",
    "iteration = 0 \n",
    "for i in range(x_train_copy.shape[0]):\n",
    "    iteration += 1\n",
    "    if iteration % 1000 == 0:\n",
    "        print(\"==========================\")\n",
    "        print(\"Nice! {} steps done already :) \".format(iteration))\n",
    "    label = y_train_copy[i]\n",
    "    if label == 1: # if class mel, then duplicate 6 times \n",
    "        image = x_train_copy[i]\n",
    "        for k in range(6):\n",
    "            random_int = randint(0,2) # random index in transformation array \n",
    "            if random_int == 0: # transf is random_rotation\n",
    "                image_new = random_rotation(image)\n",
    "            elif random_int == 1:\n",
    "                image_new = vertical_flip(image)\n",
    "            elif random_int == 2: \n",
    "                image_new = horizontal_flip(image)\n",
    "    #         print (image_new.shape)\n",
    "            image_new = image_new.reshape(1,128,128,3)\n",
    "            x_train_copy = np.append(x_train_copy, image_new, axis = 0)\n",
    "            y_train_copy = np.append(y_train_copy, np.array([label]), axis = 0)\n",
    "            \n",
    "filename_X_train_local = './data_keras/Xtrain_aug.npy'\n",
    "filename_Y_train_local = './data_keras/Ytrain_aug.npy'\n",
    "# np.save(filename_X_train_local, x_train_copy)\n",
    "# np.save(filename_Y_train_local, y_train_copy)"
   ]
  },
  {
   "cell_type": "markdown",
   "metadata": {},
   "source": [
    "## ==============================="
   ]
  },
  {
   "cell_type": "code",
   "execution_count": 9,
   "metadata": {},
   "outputs": [
    {
     "name": "stdout",
     "output_type": "stream",
     "text": [
      "============= TRAINING: AUGMENTED DATASET ==================\n",
      "Train data, class nv percentage: 46.752397558849175\n",
      "Train data, class mel percentage: 53.24760244115083\n"
     ]
    }
   ],
   "source": [
    "###### LOAD AUGMENTED DATA ######\n",
    "filename_X_train_local = './data_keras/Xtrain_aug.npy'\n",
    "filename_Y_train_local = './data_keras/Ytrain_aug.npy'\n",
    "x_train_aug, y_train_aug = np.load(filename_X_train_local), np.load(filename_Y_train_local)\n",
    "\n",
    "##### Shuffle data #####\n",
    "x_train_aug, y_train_aug = shuffle_data(x_train_aug, y_train_aug)\n",
    "\n",
    "###### TRAIN ############\n",
    "nb_nv_train_aug = np.sum(y_train_aug == 0)\n",
    "nb_mel_train_aug = np.sum(y_train_aug == 1)\n",
    "percentage_nv_train = (nb_nv_train_aug/(nb_nv_train_aug+nb_mel_train_aug))*100\n",
    "percentage_mel_train= (nb_mel_train_aug/(nb_nv_train_aug+nb_mel_train_aug))*100\n",
    "print(\"============= TRAINING: AUGMENTED DATASET ==================\")\n",
    "print(\"Train data, class nv percentage: {}\".format(percentage_nv_train))\n",
    "print(\"Train data, class mel percentage: {}\".format(percentage_mel_train))\n"
   ]
  },
  {
   "cell_type": "code",
   "execution_count": 15,
   "metadata": {},
   "outputs": [],
   "source": [
    "##### PARAMS FOR AUGMENTED DATASET #####\n",
    "model_params_aug = { \n",
    "                    \"x_train\": x_train_aug, \n",
    "                    \"y_train\": y_train_aug, \n",
    "                    \"x_val\": x_val, \n",
    "                    \"y_val\": y_val,\n",
    "                    \"img_rows\": 128,\n",
    "                    \"img_cols\": 128,\n",
    "                    \"batch_size\": 100, \n",
    "                    \"epochs\": 2, \n",
    "                    \"learning_rate\": 0.01,\n",
    "                    \"dropout\": 0.7\n",
    "                    }\n",
    "\n",
    "csv_logger = CSVLogger('log_conv_aug.csv', append=True, separator=';')"
   ]
  },
  {
   "cell_type": "code",
   "execution_count": null,
   "metadata": {},
   "outputs": [],
   "source": [
    "model_aug_conv = evaluate_classifier_conv(**model_params_aug)"
   ]
  },
  {
   "cell_type": "code",
   "execution_count": 17,
   "metadata": {},
   "outputs": [
    {
     "name": "stdout",
     "output_type": "stream",
     "text": [
      "============ Class NV: aug ========= \n",
      "Accuracy on images on nv class fromn validation data: 1.0\n",
      "============ Class MEL: aug ========= \n",
      "Accuracy on images on mel class fromn validation data: 0.0\n"
     ]
    }
   ],
   "source": [
    "index_nv_val = np.where( y_val == 0 )\n",
    "index_mel_val = np.where( y_val == 1 )\n",
    "\n",
    "score_nv = model_aug_conv.evaluate(x_val[index_nv_val], y_val[index_nv_val], verbose=0)\n",
    "score_mel = model_aug_conv.evaluate(x_val[index_mel_val], y_val[index_mel_val], verbose=0)\n",
    "\n",
    "print(\"============ Class NV: aug ========= \")\n",
    "print(\"Accuracy on images on nv class fromn validation data: {}\".format(score_nv[1]))\n",
    "\n",
    "print(\"============ Class MEL: aug ========= \")\n",
    "print(\"Accuracy on images on mel class fromn validation data: {}\".format(score_mel[1]))"
   ]
  },
  {
   "cell_type": "markdown",
   "metadata": {
    "collapsed": true
   },
   "source": [
    "### More advanced transformations ### \n",
    "source: https://github.com/albu/albumentations\n"
   ]
  },
  {
   "cell_type": "code",
   "execution_count": 5,
   "metadata": {
    "collapsed": true
   },
   "outputs": [],
   "source": [
    "## Useful for importing libraries on Google cloud. libraries are in Notebooks/libs folder\n",
    "import sys\n",
    "sys.path.insert(0, 'libs')\n",
    "import cv2\n",
    "import albumentations as A"
   ]
  },
  {
   "cell_type": "markdown",
   "metadata": {},
   "source": [
    "## NOTES: Here we work with image of type uint8!!! \n",
    "So we need to scale them maybe before feeding them to our network. Our network works with images in the range [0,1] and here we produce image in the range [0, 255]"
   ]
  },
  {
   "cell_type": "code",
   "execution_count": 26,
   "metadata": {
    "collapsed": true
   },
   "outputs": [],
   "source": [
    "BOX_COLOR = (255, 0, 0)\n",
    "TEXT_COLOR = (255, 255, 255)\n",
    "\n",
    "def visualize_bbox(img, bbox, color=BOX_COLOR, thickness=2, **kwargs):\n",
    "    #height, width = img.shape[:2]\n",
    "\n",
    "    x_min, y_min, w, h = bbox\n",
    "    x_min, x_max, y_min, y_max = int(x_min), int(x_min + w), int(y_min), int(y_min + h)\n",
    "    \n",
    "    cv2.rectangle(img, (x_min, y_min), (x_max, y_max), color=color, thickness=thickness)\n",
    "    return img\n",
    "\n",
    "def visualize_titles(img, bbox, title, color=BOX_COLOR, thickness=2, font_thickness = 2, font_scale=0.35, **kwargs):\n",
    "    #height, width = img.shape[:2]\n",
    "    x_min, y_min, w, h = bbox\n",
    "    x_min, x_max, y_min, y_max = int(x_min), int(x_min + w), int(y_min), int(y_min + h)\n",
    "    \n",
    "    ((text_width, text_height), _) = cv2.getTextSize(title, cv2.FONT_HERSHEY_SIMPLEX, font_scale, font_thickness)\n",
    "    cv2.rectangle(img, (x_min, y_min - int(1.3 * text_height)), (x_min + text_width, y_min), BOX_COLOR, -1)\n",
    "    cv2.putText(img, title, (x_min, y_min - int(0.3 * text_height)), cv2.FONT_HERSHEY_SIMPLEX, font_scale, TEXT_COLOR,\n",
    "                font_thickness, lineType=cv2.LINE_AA)\n",
    "    return img\n",
    "\n",
    "\n",
    "def augment_and_show(aug, image, mask=None, bboxes=[], categories=[], category_id_to_name=[], filename=None, \n",
    "                     font_scale_orig=0.35, \n",
    "                     font_scale_aug=0.35, show_title=True, **kwargs):\n",
    "\n",
    "    augmented = aug(image=image, mask=mask, bboxes=bboxes, category_id=categories)\n",
    "\n",
    "    image = cv2.cvtColor(image, cv2.COLOR_BGR2RGB)\n",
    "    image_aug = cv2.cvtColor(augmented['image'], cv2.COLOR_BGR2RGB)\n",
    "\n",
    "    for bbox in bboxes:\n",
    "        visualize_bbox(image, bbox, **kwargs)\n",
    "\n",
    "    for bbox in augmented['bboxes']:\n",
    "        visualize_bbox(image_aug, bbox, **kwargs)\n",
    "\n",
    "    if show_title:\n",
    "        for bbox,cat_id in zip(bboxes, categories):\n",
    "            visualize_titles(image, bbox, category_id_to_name[cat_id], font_scale=font_scale_orig, **kwargs)\n",
    "        for bbox,cat_id in zip(augmented['bboxes'], augmented['category_id']):\n",
    "            visualize_titles(image_aug, bbox, category_id_to_name[cat_id], font_scale=font_scale_aug, **kwargs)\n",
    "\n",
    "    \n",
    "    if mask is None:\n",
    "        f, ax = plt.subplots(1, 2, figsize=(16, 8))\n",
    "        \n",
    "        ax[0].imshow(image)\n",
    "        ax[0].set_title('Original image')\n",
    "        \n",
    "        ax[1].imshow(image_aug)\n",
    "        ax[1].set_title('Augmented image')\n",
    "    else:\n",
    "        f, ax = plt.subplots(2, 2, figsize=(16, 16))\n",
    "        \n",
    "        if len(mask.shape) != 3:\n",
    "            mask = label2rgb(mask, bg_label=0)            \n",
    "            mask_aug = label2rgb(augmented['mask'], bg_label=0)\n",
    "        else:\n",
    "            mask = cv2.cvtColor(mask, cv2.COLOR_BGR2RGB)\n",
    "            mask_aug = cv2.cvtColor(augmented['mask'], cv2.COLOR_BGR2RGB)\n",
    "            \n",
    "        ax[0, 0].imshow(image)\n",
    "        ax[0, 0].set_title('Original image')\n",
    "        \n",
    "        ax[0, 1].imshow(image_aug)\n",
    "        ax[0, 1].set_title('Augmented image')\n",
    "        \n",
    "        ax[1, 0].imshow(mask, interpolation='nearest')\n",
    "        ax[1, 0].set_title('Original mask')\n",
    "\n",
    "        ax[1, 1].imshow(mask_aug, interpolation='nearest')\n",
    "        ax[1, 1].set_title('Augmented mask')\n",
    "\n",
    "    f.tight_layout()\n",
    "    if filename is not None:\n",
    "        f.savefig(filename)\n",
    "        \n",
    "    return augmented['image'], augmented['mask'], augmented['bboxes']"
   ]
  },
  {
   "cell_type": "code",
   "execution_count": 40,
   "metadata": {},
   "outputs": [],
   "source": [
    "from skimage import img_as_ubyte\n",
    "\n",
    "np.random.seed(42)\n",
    "image = x_train[0]\n",
    "image = img_as_ubyte(image)\n",
    "light = A.Compose([\n",
    "    A.RandomBrightnessContrast(p=1),    \n",
    "    A.RandomGamma(p=1),    \n",
    "    A.CLAHE(p=1),    \n",
    "], p=1)\n",
    "\n",
    "medium = A.Compose([\n",
    "    A.CLAHE(p=1),\n",
    "    A.HueSaturationValue(hue_shift_limit=20, sat_shift_limit=50, val_shift_limit=50, p=1),\n",
    "], p=1)\n",
    "\n",
    "\n",
    "strong = A.Compose([\n",
    "    A.ChannelShuffle(p=1),\n",
    "], p=1)"
   ]
  },
  {
   "cell_type": "code",
   "execution_count": 46,
   "metadata": {},
   "outputs": [
    {
     "data": {
      "image/png": "[encoded data removed]",
      "text/plain": [
       "<Figure size 1152x576 with 2 Axes>"
      ]
     },
     "metadata": {
      "needs_background": "light"
     },
     "output_type": "display_data"
    }
   ],
   "source": [
    "r = augment_and_show(strong, image, filename = './transforms/augmented_image_strong')"
   ]
  },
  {
   "cell_type": "markdown",
   "metadata": {},
   "source": [
    "source: https://github.com/albu/albumentations/blob/master/notebooks/example.ipynb"
   ]
  },
  {
   "cell_type": "code",
   "execution_count": 51,
   "metadata": {},
   "outputs": [],
   "source": [
    "from albumentations import (\n",
    "    HorizontalFlip, IAAPerspective, ShiftScaleRotate, CLAHE, RandomRotate90,\n",
    "    Transpose, ShiftScaleRotate, Blur, OpticalDistortion, GridDistortion, HueSaturationValue,\n",
    "    IAAAdditiveGaussianNoise, GaussNoise, MotionBlur, MedianBlur, RandomBrightnessContrast, IAAPiecewiseAffine,\n",
    "    IAASharpen, IAAEmboss, Flip, OneOf, Compose\n",
    ")"
   ]
  },
  {
   "cell_type": "code",
   "execution_count": 52,
   "metadata": {
    "collapsed": true
   },
   "outputs": [],
   "source": [
    "def strong_aug(p=.5):\n",
    "    return A.Compose([\n",
    "        RandomRotate90(),\n",
    "        Flip(),\n",
    "        Transpose(),\n",
    "        OneOf([\n",
    "            IAAAdditiveGaussianNoise(),\n",
    "            GaussNoise(),\n",
    "        ], p=0.2),\n",
    "        OneOf([\n",
    "            MotionBlur(p=.2),\n",
    "            MedianBlur(blur_limit=3, p=0.1),\n",
    "            Blur(blur_limit=3, p=0.1),\n",
    "        ], p=0.2),\n",
    "        ShiftScaleRotate(shift_limit=0.0625, scale_limit=0.2, rotate_limit=45, p=0.2),\n",
    "        OneOf([\n",
    "            OpticalDistortion(p=0.3),\n",
    "            GridDistortion(p=.1),\n",
    "            IAAPiecewiseAffine(p=0.3),\n",
    "        ], p=0.2),\n",
    "        OneOf([\n",
    "            CLAHE(clip_limit=2),\n",
    "            IAASharpen(),\n",
    "            IAAEmboss(),\n",
    "            RandomBrightnessContrast(),            \n",
    "        ], p=0.3),\n",
    "        HueSaturationValue(p=0.3),\n",
    "    ], p=p)"
   ]
  },
  {
   "cell_type": "code",
   "execution_count": 42,
   "metadata": {
    "collapsed": true
   },
   "outputs": [],
   "source": [
    "def augment_and_show(aug, image, verbose = True ):\n",
    "    image = aug(image=image)['image']\n",
    "    if verbose: \n",
    "        plt.figure(figsize=(10, 10))\n",
    "        plt.imshow(image)\n",
    "    return image "
   ]
  },
  {
   "cell_type": "code",
   "execution_count": 72,
   "metadata": {},
   "outputs": [
    {
     "data": {
      "image/png": "[encoded data removed]",
      "text/plain": [
       "<Figure size 720x720 with 1 Axes>"
      ]
     },
     "metadata": {
      "needs_background": "light"
     },
     "output_type": "display_data"
    }
   ],
   "source": [
    "aug = strong_aug(p=1)\n",
    "image_aug = augment_and_show(aug, image)"
   ]
  },
  {
   "cell_type": "markdown",
   "metadata": {},
   "source": [
    "## DO NOT RUN AGAIN"
   ]
  },
  {
   "cell_type": "code",
   "execution_count": 83,
   "metadata": {
    "collapsed": true
   },
   "outputs": [],
   "source": [
    "from skimage import img_as_ubyte\n",
    "from skimage import img_as_float\n",
    "\n",
    "\"\"\" PROBLEM MEMORY \"\"\"\n",
    "\n",
    "def augment_data(X, Y, class_label = 1, filename = None ):\n",
    "    \"\"\"\n",
    "    PARAMS\n",
    "    --------------\n",
    "    class_label: int \n",
    "    label of the observations that must be replicated: class mel of label 1 here \n",
    "    \n",
    "    filename: list \n",
    "    list[0] = file_X, list[1] = file_Y\n",
    "    \n",
    "    X, Y: numpy array\n",
    "    data that must be augmented symmetrically\n",
    "    \n",
    "    Returns\n",
    "    -------------------\n",
    "    Augmented data X_aug, Y_aug\n",
    "    \"\"\"\n",
    "    \n",
    "    X_copy = np.copy(X)\n",
    "    Y_copy = np.copy(Y)\n",
    "    iteration = 0\n",
    "    for i in range(X.shape[0]):\n",
    "        iteration += 1\n",
    "        if iteration % 500 == 0:\n",
    "            print(\"==========================\")\n",
    "            print(\"Nice! {} steps done already :) \".format(iteration))\n",
    "       \n",
    "        label = Y[i]\n",
    "        if label == class_label: ## class mel \n",
    "            ## we replicate 6 times with different ways \n",
    "            image = X[i]\n",
    "            # transform to uint8 \n",
    "            image = img_as_ubyte(image)\n",
    "            for k in range(6):\n",
    "                aug = strong_aug(p=1) # random transform of the image\n",
    "                # transform it \n",
    "                image_aug = augment_and_show(aug, image, verbose = False)\n",
    "                # convert image in float before adding in to data set \n",
    "                image_aug = img_as_float(image_aug)\n",
    "                # add image to data set: each row is a new image so axis = 0\n",
    "                image_aug = image_aug.reshape(1,128,128,3)\n",
    "                X_copy = np.append(X_copy, image_aug, axis = 0)\n",
    "                Y_copy = np.append(Y_copy, np.array([label]), axis = 0)\n",
    "                \n",
    "    if filename is not None:\n",
    "        filename_data, filename_label = filename[0], filename[1]\n",
    "        np.save(filename_data, X_copy)\n",
    "        np.save(filename_label, Y_copy)\n",
    "    \n",
    "    return X_copy, Y_copy"
   ]
  },
  {
   "cell_type": "markdown",
   "metadata": {},
   "source": [
    "## DO NOT RUN AGAIN"
   ]
  },
  {
   "cell_type": "code",
   "execution_count": 102,
   "metadata": {
    "collapsed": true
   },
   "outputs": [],
   "source": [
    "from skimage import img_as_ubyte\n",
    "from skimage import img_as_float\n",
    "\n",
    "\"\"\" SOLUTION \"\"\"\n",
    "\n",
    "def augment_data_mel(X, Y, class_label = 1, filename = None ):\n",
    "    \"\"\"\n",
    "    PARAMS\n",
    "    --------------\n",
    "    class_label: int \n",
    "    label of the observations that must be replicated: class mel of label 1 here \n",
    "    \n",
    "    filename: list \n",
    "    list[0] = file_X, list[1] = file_Y\n",
    "    \n",
    "    X, Y: numpy array\n",
    "    data that must be augmented symmetrically\n",
    "    \n",
    "    Returns\n",
    "    -------------------\n",
    "    Augmented data X_aug, Y_aug\n",
    "    \"\"\"\n",
    "    n_mel = 698 # nb of instances of mel in training data\n",
    "    n_new = 6*n_mel\n",
    "    X_new = np.ones((n_new, 128, 128, 3))\n",
    "    Y_new = np.ones((n_new,))\n",
    "    \n",
    "    index_mel = np.where( Y == class_label ) # by default it is mel \n",
    "    X_mel = X[index_mel]\n",
    "    \n",
    "    iter_mel = 0\n",
    "    for i in range(X_mel.shape[0]):\n",
    "        if i%500 == 0 and i!=0:\n",
    "            print(\"==========================\")\n",
    "            print(\"Nice! {} images augmented already :) \".format(i))\n",
    "        \n",
    "        ## we replicate 6 times with different ways \n",
    "        image = X_mel[i]\n",
    "        # transform to uint8 \n",
    "        image = img_as_ubyte(image)\n",
    "        for k in range(6):\n",
    "            aug = strong_aug(p=1) # random transform of the image\n",
    "            # transform it \n",
    "            image_aug = augment_and_show(aug, image, verbose = False)\n",
    "            # convert image in float before adding in to data set \n",
    "            image_aug = img_as_float(image_aug)\n",
    "            # add image to data set: each row is a new image so axis = 0\n",
    "            image_aug = image_aug.reshape(1,128,128,3)\n",
    "\n",
    "            X_new[iter_mel] = image_aug\n",
    "            Y_new[iter_mel] = class_label\n",
    "            iter_mel += 1\n",
    "            \n",
    "            \n",
    "    if filename is not None:\n",
    "        filename_data, filename_label = filename[0], filename[1]\n",
    "        np.save(filename_data, X_new)\n",
    "        np.save(filename_label, Y_new)\n",
    "        \n",
    "    return X_new, Y_new"
   ]
  },
  {
   "cell_type": "code",
   "execution_count": null,
   "metadata": {
    "collapsed": true
   },
   "outputs": [],
   "source": [
    "filename_aug_strong_X, filename_aug_strong_Y = \"./data_keras/X_train_aug_strong.npy\" , \"./data_keras/Y_train_aug_strong.npy\"\n",
    "filename_arr = [filename_aug_strong_X, filename_aug_strong_Y]\n",
    "\n",
    "X_train_aug_strong, Y_train_aug_strong = augment_data_mel(x_train, y_train, class_label = 1, filename = filename_arr )"
   ]
  },
  {
   "cell_type": "code",
   "execution_count": 14,
   "metadata": {},
   "outputs": [],
   "source": [
    "import gc\n",
    "def clean_variables():\n",
    "    gc.collect()"
   ]
  },
  {
   "cell_type": "code",
   "execution_count": 6,
   "metadata": {},
   "outputs": [],
   "source": [
    "### LOAD STRONGLY AUGMENTED DATA FOR MEL CLASS #### \n",
    "filename_mel_strong_X, filename_mel_strong_Y = \"./data_keras/X_train_mel_strong.npy\" , \"./data_keras/Y_train_mel_strong.npy\"\n",
    "# np.save(filename_mel_strong_X, X_train_aug_strong)\n",
    "# np.save(filename_mel_strong_Y, Y_train_aug_strong)\n",
    "\n",
    "X_train_aug_mel = np.load(filename_mel_strong_X)\n",
    "Y_train_aug_mel = np.load(filename_mel_strong_Y)"
   ]
  },
  {
   "cell_type": "code",
   "execution_count": 75,
   "metadata": {},
   "outputs": [
    {
     "data": {
      "text/plain": [
       "(4988, 4188)"
      ]
     },
     "execution_count": 75,
     "metadata": {},
     "output_type": "execute_result"
    }
   ],
   "source": [
    "y_train.shape[0], Y_train_aug_mel.shape[0]"
   ]
  },
  {
   "cell_type": "code",
   "execution_count": 14,
   "metadata": {},
   "outputs": [],
   "source": [
    "########## Customize Early Stopping ###########\n",
    "from keras.callbacks import Callback\n",
    "\n",
    "class EarlyStoppingByAccuracy(Callback):\n",
    "    \"\"\"\n",
    "    When checking the logs we see that sometimes we get a very low val loss/ high val accuracy at some epoch and after we go below such values.\n",
    "    Solution:  We will check when such accuracy is reached and stop at this very moment \n",
    "    \n",
    "    PARAMS\n",
    "    --------------------------\n",
    "    value: int v\n",
    "    Value that is seen to be passed for a given epoch => If we are beyond it we stop training!! \n",
    "    \n",
    "    \"\"\"\n",
    "    def __init__(self, monitor='accuracy', value=0.85, verbose=0):\n",
    "        super(Callback, self).__init__()\n",
    "        self.monitor = monitor\n",
    "        self.value = value\n",
    "        self.verbose = verbose\n",
    "\n",
    "    def on_epoch_end(self, epoch, logs={}):\n",
    "        current = logs.get(self.monitor)\n",
    "        if current is None:\n",
    "            warnings.warn(\"Early stopping requires %s available!\" % self.monitor, RuntimeWarning)\n",
    "\n",
    "        if current >= self.value:\n",
    "            if self.verbose > 0:\n",
    "                print(\"Epoch %05d: early stopping THR\" % epoch)\n",
    "            self.model.stop_training = True"
   ]
  },
  {
   "cell_type": "code",
   "execution_count": 7,
   "metadata": {},
   "outputs": [],
   "source": [
    "\n",
    "from keras.models import Sequential\n",
    "from keras.layers import Conv2D, MaxPooling2D\n",
    "from keras.layers import Activation, Dropout, Flatten, Dense\n",
    "from collections import Counter \n",
    "from keras import backend as K\n",
    "from keras import optimizers\n",
    "from keras.callbacks import CSVLogger\n",
    "from keras.callbacks import ModelCheckpoint\n",
    "\n",
    "\n",
    "csv_logger = CSVLogger('log.csv', append=True, separator=';')\n",
    "\n",
    "\n",
    "\n",
    "def evaluate_classifier_conv_custom(x_train = x_train, y_train = y_train, x_val = x_val, y_val = y_val, img_rows = 128, img_cols = 128, batch_size = 32, epochs = 20, learning_rate = 0.01, dropout = 0.7, log = True, threshold_acc = 0.87):\n",
    "    \"\"\"\n",
    "    Create simple convolutional model to classify data\n",
    "    Fit data and return fitted model \n",
    "    \n",
    "    Custom callback\n",
    "    \"\"\"\n",
    "    \n",
    "    K.clear_session()\n",
    "    np.random.seed(100)\n",
    "\n",
    "    if K.image_data_format() == 'channels_first':\n",
    "        x_train = x_train.reshape(x_train.shape[0], 3, img_rows, img_cols)\n",
    "        x_val = x_val.reshape(x_val.shape[0], 3, img_rows, img_cols)\n",
    "        input_shape = (3, img_rows, img_cols)\n",
    "    else:\n",
    "        x_train = x_train.reshape(x_train.shape[0], img_rows, img_cols, 3)\n",
    "        x_val = x_val.reshape(x_val.shape[0], img_rows, img_cols, 3)\n",
    "        input_shape = (img_rows, img_cols, 3)\n",
    "\n",
    "    model = Sequential()\n",
    "    model.add(Conv2D(32, (3, 3), input_shape=(128, 128,3)))\n",
    "    model.add(Activation('relu'))\n",
    "    model.add(MaxPooling2D(pool_size=(2, 2)))\n",
    "\n",
    "    model.add(Conv2D(32, (3, 3)))\n",
    "    model.add(Activation('relu'))\n",
    "    model.add(MaxPooling2D(pool_size=(2, 2)))\n",
    "\n",
    "    model.add(Conv2D(64, (3, 3)))\n",
    "    model.add(Activation('relu'))\n",
    "    model.add(MaxPooling2D(pool_size=(2, 2)))\n",
    "\n",
    "    model.add(Flatten())  # this converts our 3D feature maps to 1D feature vectors\n",
    "    model.add(Dense(64))\n",
    "    model.add(Activation('relu'))\n",
    "    model.add(Dropout(dropout))\n",
    "    model.add(Dense(1))\n",
    "    model.add(Activation('sigmoid'))\n",
    "\n",
    "\n",
    "    # initiate RMSprop optimizer\n",
    "    opt = optimizers.rmsprop(lr=learning_rate, decay = 1e-5)\n",
    "\n",
    "    model.compile(loss='binary_crossentropy',\n",
    "                  optimizer=opt,\n",
    "                  metrics=['accuracy'])\n",
    "    \n",
    "    kfold_weights_path = \"best_model{}.hdf5\".format(3)\n",
    "    callbacks = [\n",
    "                EarlyStoppingByAccuracy(monitor='val_acc', value=threshold_acc, verbose=1), # early stopping based on validation accuracy \n",
    "                ModelCheckpoint(kfold_weights_path, monitor='val_loss', save_best_only=True, verbose=0)\n",
    "                \n",
    "                ]\n",
    "\n",
    "    if log:\n",
    "        callbacks.append(csv_logger)\n",
    "        # Fit data \n",
    "        model.fit(x_train, y_train,\n",
    "                  batch_size=batch_size,\n",
    "                  epochs=epochs,\n",
    "                  verbose=1,\n",
    "                  validation_data=(x_val, y_val),\n",
    "                    callbacks = callbacks)\n",
    "        \n",
    "    else:\n",
    "        \n",
    "        # Fit data \n",
    "        model.fit(x_train, y_train,\n",
    "                  batch_size=batch_size,\n",
    "                  epochs=epochs,\n",
    "                  verbose=1,\n",
    "                  validation_data=(x_val, y_val),\n",
    "                  callbacks = callbacks)\n",
    "\n",
    "        \n",
    "    # Compute final performance on validation data\n",
    "    score = model.evaluate(x_val, y_val, verbose=0)\n",
    "    print('Final validation loss:', score[0])\n",
    "    print('Final validation accuracy:', score[1])\n",
    "    \n",
    "    return model  "
   ]
  },
  {
   "cell_type": "code",
   "execution_count": 39,
   "metadata": {},
   "outputs": [],
   "source": [
    "##### PARAMS FOR AUGMENTED DATASET #####\n",
    "model_params_aug = { \n",
    "                    \"x_train\": X_aug, \n",
    "                    \"y_train\": Y_aug, \n",
    "                    \"x_val\": x_val, \n",
    "                    \"y_val\": y_val,\n",
    "                    \"img_rows\": 128,\n",
    "                    \"img_cols\": 128, \n",
    "                    \"batch_size\": 16, \n",
    "                    \"epochs\": 40, \n",
    "                    \"learning_rate\": 0.0001, \n",
    "                    \"dropout\": 0.50,\n",
    "                    \"log\":False,\n",
    "                    \"threshold_acc\": 0.87\n",
    "                    }\n",
    "\n",
    "csv_logger = CSVLogger('log_conv_strong_augOK3.csv', append=True, separator=';')"
   ]
  },
  {
   "cell_type": "code",
   "execution_count": null,
   "metadata": {
    "collapsed": true
   },
   "outputs": [],
   "source": [
    "model_strong_conv = evaluate_classifier_conv_custom(**model_params_aug)"
   ]
  },
  {
   "cell_type": "code",
   "execution_count": null,
   "metadata": {},
   "outputs": [],
   "source": [
    "### LOAD BEST MODEL ###\n",
    "from keras.models import load_model\n",
    "\n",
    "filename_best_model = \"best_model{}.hdf5\".format(2)\n",
    "model_best2 = load_model(filename_best_model)\n",
    "model_best2.evaluate(x_val, y_val)"
   ]
  },
  {
   "cell_type": "code",
   "execution_count": 8,
   "metadata": {},
   "outputs": [],
   "source": [
    "def plot_graphs(model = model_best2, nb_epochs = 6) -> None:\n",
    "    \n",
    "    dict_history = model.history.history\n",
    "    train_costs, val_costs = dict_history['loss'], dict_history['val_loss']\n",
    "    acc_arr_train, acc_arr_val = dict_history['acc'], dict_history['val_acc']\n",
    "    ########  Cross-entropy  ###########\n",
    "    plt.figure(figsize = (15,10))\n",
    "    ax = plt.gca()\n",
    "\n",
    "    epochs = range(nb_epochs)\n",
    "    ax.plot(epochs, train_costs, color = \"green\")\n",
    "    ax.plot(epochs, val_costs, color = \"purple\")\n",
    "    ax.grid(True)\n",
    "    ax.set_ylabel(\"Cross-entropy\",fontsize=14, color='blue')\n",
    "   \n",
    "\n",
    "    plt.title(\"Training and Validation cross-entropy vs epochs \", fontsize = 15)\n",
    "    plt.show()\n",
    "    #########  Accuracy #############\n",
    "    plt.figure(figsize = (15,10))\n",
    "    ax = plt.gca()\n",
    "    ax2 = ax.twinx()\n",
    "\n",
    "    epochs = range(nb_epochs)\n",
    "    ax.plot(epochs, acc_arr_train, color = \"green\") \n",
    "    ax.plot(epochs, acc_arr_val, color = \"purple\")\n",
    "    ax.grid(True)\n",
    "    ax.set_ylabel(\"accuracy\",fontsize=14,color='green')\n",
    "\n",
    "\n",
    "    plt.title(\"Training and Validation accuracy vs epochs \", fontsize = 15)\n",
    "    plt.show()\n",
    "    return ;"
   ]
  },
  {
   "cell_type": "code",
   "execution_count": 11,
   "metadata": {
    "collapsed": true
   },
   "outputs": [],
   "source": [
    "def acc_val_mel_nv(model) -> None:\n",
    "    index_nv_val = np.where( y_val == 0 )\n",
    "    index_mel_val = np.where( y_val == 1 )\n",
    "\n",
    "    score_nv = model.evaluate(x_val[index_nv_val], y_val[index_nv_val], verbose=0)\n",
    "    score_mel = model.evaluate(x_val[index_mel_val], y_val[index_mel_val], verbose=0)\n",
    "\n",
    "    print(\"============ Class NV: aug ========= \")\n",
    "    print(\"Accuracy on images on nv class fromn validation data: {}\".format(score_nv[1]))\n",
    "\n",
    "    print(\"============ Class MEL: aug ========= \")\n",
    "    print(\"Accuracy on images on mel class fromn validation data: {}\".format(score_mel[1]))"
   ]
  },
  {
   "cell_type": "code",
   "execution_count": 12,
   "metadata": {},
   "outputs": [
    {
     "name": "stdout",
     "output_type": "stream",
     "text": [
      "============ Class NV: aug ========= \n",
      "Accuracy on images on nv class fromn validation data: 0.9187145557655955\n",
      "============ Class MEL: aug ========= \n",
      "Accuracy on images on mel class fromn validation data: 0.6526315758102819\n"
     ]
    }
   ],
   "source": [
    "acc_val_mel_nv(model_best2)"
   ]
  },
  {
   "cell_type": "code",
   "execution_count": 17,
   "metadata": {
    "collapsed": true
   },
   "outputs": [],
   "source": [
    "from sklearn.metrics import recall_score\n",
    "from sklearn.metrics import f1_score\n",
    "\n",
    "\n",
    "def compute_recall(model):\n",
    "    Y_pred = model.predict_classes(x_val)\n",
    "    \n",
    "    recall_strong = recall_score(y_val, Y_pred.reshape(-1,))\n",
    "    print (\"Recall on class MEL is {}\".format(recall_strong))\n",
    "    return recall_strong\n",
    "    \n",
    "def compute_fscore(model):\n",
    "    Y_pred = model.predict_classes(x_val)\n",
    "    f1_val = f1_score(y_true = y_val, y_pred = Y_pred)\n",
    "    print (\"F1 score on class MEL with validation data is {}\".format(f1_val))\n",
    "    return f1_val"
   ]
  },
  {
   "cell_type": "code",
   "execution_count": 18,
   "metadata": {},
   "outputs": [
    {
     "name": "stdout",
     "output_type": "stream",
     "text": [
      "Recall on class MEL is 0.6526315789473685\n"
     ]
    },
    {
     "data": {
      "text/plain": [
       "0.6526315789473685"
      ]
     },
     "execution_count": 18,
     "metadata": {},
     "output_type": "execute_result"
    }
   ],
   "source": [
    "compute_recall(model = model_best2)"
   ]
  },
  {
   "cell_type": "code",
   "execution_count": 19,
   "metadata": {},
   "outputs": [
    {
     "name": "stdout",
     "output_type": "stream",
     "text": [
      "F1 score on class MEL with validation data is 0.6200000000000001\n"
     ]
    },
    {
     "data": {
      "text/plain": [
       "0.6200000000000001"
      ]
     },
     "execution_count": 19,
     "metadata": {},
     "output_type": "execute_result"
    }
   ],
   "source": [
    "compute_fscore(model = model_best2 )"
   ]
  },
  {
   "cell_type": "code",
   "execution_count": 31,
   "metadata": {},
   "outputs": [],
   "source": [
    "from sklearn.metrics import confusion_matrix\n",
    "from sklearn.utils.multiclass import unique_labels\n",
    "\n",
    "def plot_confusion_matrix(model, x_val = x_val, y_val = y_val, classes = np.array([0,1]),\n",
    "                          normalize=False,\n",
    "                          title=None,\n",
    "                          cmap=plt.cm.Blues):\n",
    "    \"\"\"\n",
    "    This function prints and plots the confusion matrix.\n",
    "    Normalization can be applied by setting `normalize=True`.\n",
    "    \"\"\"\n",
    "    \n",
    "    \n",
    "    y_pred = model.predict_classes(x_val)\n",
    "    y_true = y_val \n",
    "    if not title:\n",
    "        if normalize:\n",
    "            title = 'Normalized confusion matrix'\n",
    "        else:\n",
    "            title = 'Confusion matrix, without normalization'\n",
    "\n",
    "    # Compute confusion matrix\n",
    "    cm = confusion_matrix(y_true, y_pred)\n",
    "    if normalize:\n",
    "        cm = cm.astype('float') / cm.sum(axis=1)[:, np.newaxis]\n",
    "        print(\"Normalized confusion matrix\")\n",
    "    else:\n",
    "        print('Confusion matrix, without normalization')\n",
    "\n",
    "#     print(cm)\n",
    "    \n",
    "    fig, ax = plt.subplots(figsize = (15,10))\n",
    "    #fig = plt.figure((15,10))\n",
    "    im = ax.imshow(cm, interpolation='nearest', cmap=cmap)\n",
    "    ax.figure.colorbar(im, ax=ax)\n",
    "    # We want to show all ticks...\n",
    "    ax.set(xticks=np.arange(cm.shape[1]),\n",
    "           yticks=np.arange(cm.shape[0]),\n",
    "           # ... and label them with the respective list entries\n",
    "           xticklabels=classes, yticklabels=classes,\n",
    "           title=title,\n",
    "           ylabel='True label',\n",
    "           xlabel='Predicted label')\n",
    "\n",
    "    # Rotate the tick labels and set their alignment.\n",
    "    plt.setp(ax.get_xticklabels(), rotation=45, ha=\"right\",\n",
    "             rotation_mode=\"anchor\")\n",
    "\n",
    "    # Loop over data dimensions and create text annotations.\n",
    "    fmt = '.2f' if normalize else 'd'\n",
    "    thresh = cm.max() / 2.\n",
    "    for i in range(cm.shape[0]):\n",
    "        for j in range(cm.shape[1]):\n",
    "            ax.text(j, i, format(cm[i, j], fmt),\n",
    "                    ha=\"center\", va=\"center\",\n",
    "                    color=\"white\" if cm[i, j] > thresh else \"black\")\n",
    "    fig.tight_layout()\n",
    "    return ax\n",
    "\n",
    "# Plot non-normalized confusion matrix\n",
    "# plot_confusion_matrix(model_best2)\n",
    "\n",
    "# Plot normalized confusion matrix\n",
    "# plot_confusion_matrix(model_best2, normalize = True)\n",
    "\n",
    "# plt.show()"
   ]
  },
  {
   "cell_type": "code",
   "execution_count": null,
   "metadata": {
    "collapsed": true
   },
   "outputs": [],
   "source": [
    "index_nv_val = np.where( y_val == 0 )\n",
    "index_mel_val = np.where( y_val == 1 )\n",
    "\n",
    "score_nv = model_strong_conv.evaluate(x_val[index_nv_val], y_val[index_nv_val], verbose=0)\n",
    "score_mel = model_strong_conv.evaluate(x_val[index_mel_val], y_val[index_mel_val], verbose=0)\n",
    "\n",
    "print(\"============ Class NV: aug ========= \")\n",
    "print(\"Accuracy on images on nv class fromn validation data: {}\".format(score_nv[1]))\n",
    "\n",
    "print(\"============ Class MEL: aug ========= \")\n",
    "print(\"Accuracy on images on mel class fromn validation data: {}\".format(score_mel[1]))"
   ]
  },
  {
   "cell_type": "code",
   "execution_count": 51,
   "metadata": {
    "collapsed": true
   },
   "outputs": [],
   "source": [
    "\"\"\"\n",
    "@COMPILE: define a specific metric for unbalanced data \n",
    "\"\"\"\n",
    "\n",
    "def recall_np(y_true, y_pred):\n",
    "    \"\"\"Recall metric\n",
    "    Only computes a batch-wise average of recall. Computes the recall, a metric\n",
    "    for multi-label classification of how many relevant items are selected.\n",
    "    \"\"\"\n",
    "    epsilon = np.finfo(np.float32).eps\n",
    "    y_pred = y_pred.reshape(-1,)\n",
    "    true_positives = np.sum(y_true * y_pred)\n",
    "    print(true_positives)\n",
    "    possible_positives = np.sum(y_true)\n",
    "    recall = true_positives / (possible_positives + epsilon)\n",
    "    return recall"
   ]
  },
  {
   "cell_type": "code",
   "execution_count": 27,
   "metadata": {},
   "outputs": [
    {
     "name": "stdout",
     "output_type": "stream",
     "text": [
      "Recall on class MEL is 0.5842105263157895\n"
     ]
    }
   ],
   "source": [
    "Y_pred = model_strong_conv.predict_classes(x_val)\n",
    "from sklearn.metrics import recall_score\n",
    "recall_strong = recall_score(y_val, Y_pred.reshape(-1,))\n",
    "print (\"Recall on class MEL is {}\".format(recall_strong))"
   ]
  },
  {
   "cell_type": "code",
   "execution_count": 28,
   "metadata": {},
   "outputs": [
    {
     "name": "stdout",
     "output_type": "stream",
     "text": [
      "F1 score on class MEL with validation data is 0.5606060606060606\n"
     ]
    }
   ],
   "source": [
    "from sklearn.metrics import f1_score\n",
    "\n",
    "f1_val = f1_score(y_true = y_val, y_pred = Y_pred)\n",
    "print (\"F1 score on class MEL with validation data is {}\".format(f1_val))"
   ]
  },
  {
   "cell_type": "markdown",
   "metadata": {
    "collapsed": true
   },
   "source": [
    "## AUGMENT CLASS NV "
   ]
  },
  {
   "cell_type": "code",
   "execution_count": 55,
   "metadata": {
    "collapsed": true
   },
   "outputs": [],
   "source": [
    "from skimage import img_as_ubyte\n",
    "from skimage import img_as_float\n",
    "\n",
    "\"\"\" SOLUTION \"\"\"\n",
    "\n",
    "def augment_data_nv(X, Y, class_label = 0, factor = 2, filename = None ):\n",
    "    \"\"\"\n",
    "    PARAMS\n",
    "    --------------\n",
    "    class_label: int \n",
    "    label of the observations that must be replicated: class nv of label 0 here \n",
    "    \n",
    "    filename: list \n",
    "    list[0] = file_X, list[1] = file_Y\n",
    "    \n",
    "    X, Y: numpy array\n",
    "    data that must be augmented symmetrically\n",
    "    \n",
    "    Returns\n",
    "    -------------------\n",
    "    Augmented data X_aug, Y_aug\n",
    "    \"\"\"\n",
    "    n_nv = 4290 # nb of instances of mel in training data\n",
    "    n_new = factor*n_nv\n",
    "    X_new = np.ones((n_new, 128, 128, 3))\n",
    "    Y_new = np.ones((n_new,))\n",
    "    \n",
    "    index_nv = np.where( Y == class_label ) # by default it is mel \n",
    "    X_nv = X[index_nv]\n",
    "    \n",
    "    iter_nv = 0\n",
    "    for i in range(X_nv.shape[0]):\n",
    "        if i%500 == 0 and i!=0:\n",
    "            print(\"==========================\")\n",
    "            print(\"Nice! {} images augmented already :) \".format(i))\n",
    "        \n",
    "        ## we replicate 2 times with different ways \n",
    "        image = X_nv[i]\n",
    "        # transform to uint8 \n",
    "        image = img_as_ubyte(image)\n",
    "        for k in range(factor):\n",
    "            aug = strong_aug(p=1) # random transform of the image\n",
    "            # transform it \n",
    "            image_aug = augment_and_show(aug, image, verbose = False)\n",
    "            # convert image in float before adding in to data set \n",
    "            image_aug = img_as_float(image_aug)\n",
    "            # add image to data set: each row is a new image so axis = 0\n",
    "            image_aug = image_aug.reshape(1,128,128,3)\n",
    "\n",
    "            X_new[iter_nv] = image_aug\n",
    "            Y_new[iter_nv] = class_label\n",
    "            iter_nv += 1\n",
    "            \n",
    "            \n",
    "    if filename is not None:\n",
    "        filename_data, filename_label = filename[0], filename[1]\n",
    "        np.save(filename_data, X_new)\n",
    "        np.save(filename_label, Y_new)\n",
    "        \n",
    "    return X_new, Y_new"
   ]
  },
  {
   "cell_type": "code",
   "execution_count": 56,
   "metadata": {},
   "outputs": [
    {
     "name": "stdout",
     "output_type": "stream",
     "text": [
      "==========================\n",
      "Nice! 500 images augmented already :) \n",
      "==========================\n",
      "Nice! 1000 images augmented already :) \n",
      "==========================\n",
      "Nice! 1500 images augmented already :) \n",
      "==========================\n",
      "Nice! 2000 images augmented already :) \n",
      "==========================\n",
      "Nice! 2500 images augmented already :) \n",
      "==========================\n",
      "Nice! 3000 images augmented already :) \n",
      "==========================\n",
      "Nice! 3500 images augmented already :) \n",
      "==========================\n",
      "Nice! 4000 images augmented already :) \n"
     ]
    }
   ],
   "source": [
    "filename_aug_strong_X, filename_aug_strong_Y = \"./data_keras/X_nv_strong.npy\" , \"./data_keras/Y_nv_strong.npy\"\n",
    "filename_arr = [filename_aug_strong_X, filename_aug_strong_Y]\n",
    "\n",
    "X_nv_strong, Y_nv_strong = augment_data_nv( x_train, y_train, class_label = 0, factor = 2, filename = filename_arr )"
   ]
  },
  {
   "cell_type": "markdown",
   "metadata": {
    "collapsed": true
   },
   "source": [
    "## AUGMENTED DATA WITH STACKED AUTOENCODER"
   ]
  },
  {
   "cell_type": "code",
   "execution_count": 6,
   "metadata": {
    "collapsed": true
   },
   "outputs": [],
   "source": [
    "### LOAD DATA ####\n",
    "filename_stack_aug = './data_keras/stacked_vae_normdist_3499-8-8-32-30.npy'\n",
    "X_mel_stack_aug = np.load(filename_stack_aug)"
   ]
  },
  {
   "cell_type": "code",
   "execution_count": 18,
   "metadata": {},
   "outputs": [],
   "source": [
    "### ADD AUGMENTED DATA FOR CLASS MEL TO TRAINING DATA ###\n",
    "\n",
    "## GOAL: just stack the augmented mel data with training data and shuffle \n",
    "# PROBLEM: memory error \n",
    "# Solution: Pre allocate memory by stating shape of matrix \n",
    "\n",
    "### nb_obs = nb observations total so obs in X1 + obs in X2\n",
    "def concat_train_label(X1, X2 , Y1, Y2):\n",
    "    nb_obs = X1.shape[0] + X2.shape[0]\n",
    "    X_aug = np.empty((nb_obs, 128, 128, 3))\n",
    "    Y_aug = np.empty((nb_obs,))\n",
    "    nb_obs_or = X1.shape[0]\n",
    "    \n",
    "    for k in range(X1.shape[0]):\n",
    "        X_aug[k] = X1[k]\n",
    "        Y_aug[k] = Y1[k]\n",
    "    \n",
    "    iteration = 0\n",
    "    while iteration != Y2.shape[0]:\n",
    "        X_aug[iteration+nb_obs_or] = X2[iteration]\n",
    "        Y_aug[iteration+nb_obs_or] = Y2[iteration]\n",
    "        iteration += 1\n",
    "        \n",
    "    return X_aug, Y_aug\n",
    "\n",
    "X_aug, Y_aug = concat_train_label(x_train, X_mel_stack_aug, y_train, np.ones(X_mel_stack_aug.shape[0], ))\n",
    "\n",
    "# # ## Shuffle data ##\n",
    "X_aug, Y_aug = shuffle_data(X_aug, Y_aug)"
   ]
  },
  {
   "cell_type": "code",
   "execution_count": 11,
   "metadata": {},
   "outputs": [],
   "source": [
    "##### PARAMS FOR AUGMENTED DATASET #####\n",
    "model_params_aug = { \n",
    "                    \"x_train\": X_aug, \n",
    "                    \"y_train\": Y_aug, \n",
    "                    \"x_val\": x_val, \n",
    "                    \"y_val\": y_val,\n",
    "                    \"img_rows\": 128,\n",
    "                    \"img_cols\": 128, \n",
    "                    \"batch_size\": 16, \n",
    "                    \"epochs\": 40, \n",
    "                    \"learning_rate\": 0.0001, \n",
    "                    \"dropout\": 0.50,\n",
    "                    \"log\":False,\n",
    "                    \"threshold_acc\": 0.86\n",
    "                    }\n",
    "\n",
    "csv_logger = CSVLogger('log_conv_strong_augOK3.csv', append=True, separator=';')"
   ]
  },
  {
   "cell_type": "code",
   "execution_count": null,
   "metadata": {},
   "outputs": [],
   "source": [
    "model__conv = evaluate_classifier_conv_custom(**model_params_aug)"
   ]
  },
  {
   "cell_type": "code",
   "execution_count": 14,
   "metadata": {},
   "outputs": [
    {
     "data": {
      "text/plain": [
       "<matplotlib.axes._subplots.AxesSubplot at 0x7ff369a13630>"
      ]
     },
     "execution_count": 14,
     "metadata": {},
     "output_type": "execute_result"
    },
    {
     "data": {
      "image/png": "[encoded data removed]",
      "text/plain": [
       "<Figure size 1080x720 with 2 Axes>"
      ]
     },
     "metadata": {
      "needs_background": "light"
     },
     "output_type": "display_data"
    }
   ],
   "source": [
    "# Plot normalized confusion matrix\n",
    "plot_confusion_matrix(model__conv, normalize = True)\n",
    "\n",
    "plt.show()"
   ]
  },
  {
   "cell_type": "markdown",
   "metadata": {},
   "source": [
    "### CUSTOM EARLY STOPPING BASED ON FSCORE "
   ]
  },
  {
   "cell_type": "code",
   "execution_count": 6,
   "metadata": {
    "collapsed": true
   },
   "outputs": [],
   "source": [
    "\"\"\"\n",
    "@COMPILE: define a specific metric for unbalanced data \n",
    "\"\"\"\n",
    "\n",
    "def recall_np(y_true, y_pred):\n",
    "    \"\"\"Recall metric\n",
    "    Only computes a batch-wise average of recall. Computes the recall, a metric\n",
    "    for multi-label classification of how many relevant items are selected.\n",
    "    \"\"\"\n",
    "    epsilon = np.finfo(np.float32).eps\n",
    "    y_pred = y_pred.reshape(-1,)\n",
    "    true_positives = np.sum(y_true * y_pred)\n",
    "    print(true_positives)\n",
    "    possible_positives = np.sum(y_true)\n",
    "    recall = true_positives / (possible_positives + epsilon)\n",
    "    return recall\n",
    "\n",
    "\n",
    "def precision(y_true, y_pred):\n",
    "    prod = y_true * y_pred\n",
    "    nb_common_ones = np.sum(prod)\n",
    "    nb_pred_ones = np.sum(y_pred)\n",
    "    precision = nb_common_ones/nb_pred_ones\n",
    "    return precision \n",
    "\n",
    "def f_score_main(y_true, y_pred): \n",
    "    \"\"\"\n",
    "    fscore = 2(recall*precision)/(recall + precision)\n",
    "    \"\"\"\n",
    "    recall = recall_np(y_true, y_pred)\n",
    "    precision = precision(y_ture, y_pred)\n",
    "    return 2*(precision*recall)/(precision+recall)\n"
   ]
  },
  {
   "cell_type": "code",
   "execution_count": 26,
   "metadata": {},
   "outputs": [],
   "source": [
    "import tensorflow as tf \n",
    "from keras.models import Sequential\n",
    "from keras.layers import Conv2D, MaxPooling2D\n",
    "from keras.layers import Activation, Dropout, Flatten, Dense\n",
    "from collections import Counter \n",
    "from keras import backend as K\n",
    "from keras import optimizers\n",
    "from keras.callbacks import CSVLogger\n",
    "from keras.callbacks import ModelCheckpoint\n",
    "\n",
    "from keras.callbacks import Callback\n",
    "\n",
    "from sklearn.metrics import f1_score\n",
    "\n",
    "\n",
    "csv_logger = CSVLogger('log.csv', append=True, separator=';')\n",
    "\n",
    "\n",
    "\n",
    "    \n",
    "    \n",
    "class EarlyStopByF1(Callback):\n",
    "    def __init__(self, value = 0, verbose = 0):\n",
    "        super(Callback, self).__init__()\n",
    "        self.value = value\n",
    "        self.verbose = verbose\n",
    "\n",
    "    def f1(self, y_true, y_pred):\n",
    "        def recall(y_true, y_pred):\n",
    "            \"\"\"Recall metric.\n",
    "\n",
    "            Only computes a batch-wise average of recall.\n",
    "\n",
    "            Computes the recall, a metric for multi-label classification of\n",
    "            how many relevant items are selected.\n",
    "            \"\"\"\n",
    "            true_positives = K.sum(K.round(K.clip(y_true * y_pred, 0, 1)))\n",
    "            possible_positives = K.sum(K.round(K.clip(y_true, 0, 1)))\n",
    "            recall = true_positives / (possible_positives + K.epsilon())\n",
    "            return recall\n",
    "\n",
    "        def precision(y_true, y_pred):\n",
    "            \"\"\"Precision metric.\n",
    "\n",
    "            Only computes a batch-wise average of precision.\n",
    "\n",
    "            Computes the precision, a metric for multi-label classification of\n",
    "            how many selected items are relevant.\n",
    "            \"\"\"\n",
    "            true_positives = K.sum(K.round(K.clip(y_true * y_pred, 0, 1)))\n",
    "            predicted_positives = K.sum(K.round(K.clip(y_pred, 0, 1)))\n",
    "            precision = true_positives / (predicted_positives + K.epsilon())\n",
    "            return precision\n",
    "        precision = precision(y_true, y_pred)\n",
    "        recall = recall(y_true, y_pred)\n",
    "        return 2*((precision*recall)/(precision+recall+K.epsilon()))\n",
    "    \n",
    "    \n",
    "    def on_epoch_end(self, epoch, logs={}):\n",
    "        predict = np.asarray(self.model.predict(self.validation_data[0]))\n",
    "        target = self.validation_data[1]\n",
    "        predict = tf.convert_to_tensor(predict, tf.float32)\n",
    "        target = tf.convert_to_tensor(target, tf.float32)\n",
    "        score = self.f1(target, predict) # score is now a tf.tensor (necessary for early stopping)\n",
    "#         print (type(score)) # tensor \n",
    "        tensor_value = tf.constant(self.value, shape = (1,))\n",
    "        with tf.Session() as sess:\n",
    "            tensor_value_score = sess.run(tf.greater(score, tensor_value))\n",
    "#             print(sess.run(tf.greater(score, tensor_value))) ## prints [True] when we go beyond self.value\n",
    " \n",
    "        if np.all(tensor_value_score):# if we go beyond our value, we can stop \n",
    "            if self.verbose > 0: # print\n",
    "                print(\"Epoch %05d: early stopping Threshold\" % epoch)\n",
    "            self.model.stop_training = True\n",
    "\n",
    "\n",
    "########## Customize Early Stopping ###########\n",
    "from keras.callbacks import Callback\n",
    "\n",
    "class EarlyStoppingByAccuracy(Callback):\n",
    "    \"\"\"\n",
    "    When checking the logs we see that sometimes we get a very low val loss/ high val accuracy at some epoch and after we go below such values.\n",
    "    Solution:  We will check when such accuracy is reached and stop at this very moment \n",
    "    \n",
    "    PARAMS\n",
    "    --------------------------\n",
    "    value: int v\n",
    "    Value that is seen to be passed for a given epoch => If we are beyond it we stop training!! \n",
    "    \n",
    "    \"\"\"\n",
    "    def __init__(self, monitor='accuracy', value=0.85, verbose=0):\n",
    "        super(Callback, self).__init__()\n",
    "        self.monitor = monitor\n",
    "        self.value = value\n",
    "        self.verbose = verbose\n",
    "\n",
    "    def on_epoch_end(self, epoch, logs={}):\n",
    "        current = logs.get(self.monitor)\n",
    "        if current is None:\n",
    "            warnings.warn(\"Early stopping requires %s available!\" % self.monitor, RuntimeWarning)\n",
    "\n",
    "        if current >= self.value:\n",
    "            if self.verbose > 0:\n",
    "                print(\"Epoch %05d: early stopping THR\" % epoch)\n",
    "            self.model.stop_training = True\n",
    "            \n",
    "def evaluate_classifier_conv_custom_fscore(x_train, y_train, x_val, y_val, img_rows = 128, img_cols = 128, \n",
    "                                           batch_size = 32, epochs = 20, learning_rate = 0.01, \n",
    "                                           dropout = 0.7, log = True, threshold_acc = 0.87, name_model = 'stack', threshold_fscore = 0.5):\n",
    "    \"\"\"\n",
    "    Create simple convolutional model to classify data\n",
    "    Fit data and return fitted model \n",
    "    \n",
    "    Custom callback\n",
    "    \"\"\"\n",
    "    \n",
    "    K.clear_session()\n",
    "    np.random.seed(100)\n",
    "\n",
    "    if K.image_data_format() == 'channels_first':\n",
    "        x_train = x_train.reshape(x_train.shape[0], 3, img_rows, img_cols)\n",
    "        x_val = x_val.reshape(x_val.shape[0], 3, img_rows, img_cols)\n",
    "        input_shape = (3, img_rows, img_cols)\n",
    "    else:\n",
    "        x_train = x_train.reshape(x_train.shape[0], img_rows, img_cols, 3)\n",
    "        x_val = x_val.reshape(x_val.shape[0], img_rows, img_cols, 3)\n",
    "        input_shape = (img_rows, img_cols, 3)\n",
    "\n",
    "    model = Sequential()\n",
    "    model.add(Conv2D(32, (3, 3), input_shape=(128, 128,3)))\n",
    "    model.add(Activation('relu'))\n",
    "    model.add(MaxPooling2D(pool_size=(2, 2)))\n",
    "\n",
    "    model.add(Conv2D(32, (3, 3)))\n",
    "    model.add(Activation('relu'))\n",
    "    model.add(MaxPooling2D(pool_size=(2, 2)))\n",
    "\n",
    "    model.add(Conv2D(64, (3, 3)))\n",
    "    model.add(Activation('relu'))\n",
    "    model.add(MaxPooling2D(pool_size=(2, 2)))\n",
    "\n",
    "    model.add(Flatten())  # this converts our 3D feature maps to 1D feature vectors\n",
    "    model.add(Dense(64))\n",
    "    model.add(Activation('relu'))\n",
    "    model.add(Dropout(dropout))\n",
    "    model.add(Dense(1))\n",
    "    model.add(Activation('sigmoid'))\n",
    "    \n",
    "    def recall(y_true, y_pred):\n",
    "            \"\"\"Recall metric.\n",
    "\n",
    "            Only computes a batch-wise average of recall.\n",
    "\n",
    "            Computes the recall, a metric for multi-label classification of\n",
    "            how many relevant items are selected.\n",
    "            \"\"\"\n",
    "            true_positives = K.sum(K.round(K.clip(y_true * y_pred, 0, 1)))\n",
    "            possible_positives = K.sum(K.round(K.clip(y_true, 0, 1)))\n",
    "            recall = true_positives / (possible_positives + K.epsilon())\n",
    "            return recall\n",
    "    \n",
    "    def f1(y_true, y_pred):\n",
    "        def recall(y_true, y_pred):\n",
    "            \"\"\"Recall metric.\n",
    "\n",
    "            Only computes a batch-wise average of recall.\n",
    "\n",
    "            Computes the recall, a metric for multi-label classification of\n",
    "            how many relevant items are selected.\n",
    "            \"\"\"\n",
    "            true_positives = K.sum(K.round(K.clip(y_true * y_pred, 0, 1)))\n",
    "            possible_positives = K.sum(K.round(K.clip(y_true, 0, 1)))\n",
    "            recall = true_positives / (possible_positives + K.epsilon())\n",
    "            return recall\n",
    "\n",
    "        def precision(y_true, y_pred):\n",
    "            \"\"\"Precision metric.\n",
    "\n",
    "            Only computes a batch-wise average of precision.\n",
    "\n",
    "            Computes the precision, a metric for multi-label classification of\n",
    "            how many selected items are relevant.\n",
    "            \"\"\"\n",
    "            true_positives = K.sum(K.round(K.clip(y_true * y_pred, 0, 1)))\n",
    "            predicted_positives = K.sum(K.round(K.clip(y_pred, 0, 1)))\n",
    "            precision = true_positives / (predicted_positives + K.epsilon())\n",
    "            return precision\n",
    "        precision = precision(y_true, y_pred)\n",
    "        recall = recall(y_true, y_pred)\n",
    "        return 2*((precision*recall)/(precision+recall+K.epsilon()))\n",
    "\n",
    "\n",
    "\n",
    "    # initiate RMSprop optimizer\n",
    "    opt = optimizers.rmsprop(lr=learning_rate, decay = 1e-5)\n",
    "\n",
    "    model.compile(loss='binary_crossentropy',\n",
    "                  optimizer=opt,\n",
    "                  metrics=['accuracy', f1, recall])\n",
    "    \n",
    "    \n",
    "    kfold_weights_path = \"best_model{}.hdf5\".format(name_model)\n",
    "    callbacks = [\n",
    "                EarlyStoppingByAccuracy(monitor='val_acc', value=threshold_acc, verbose=1), # early stopping based on validation accuracy \n",
    "                ModelCheckpoint(kfold_weights_path, monitor='f1', save_best_only=True, verbose=0),\n",
    "                EarlyStopByF1(value = threshold_fscore, verbose = 1) # early stopping based on f1 score\n",
    "                ]\n",
    "\n",
    "    if log:\n",
    "        callbacks.append(csv_logger)\n",
    "        # Fit data \n",
    "        model.fit(x_train, y_train,\n",
    "                  batch_size=batch_size,\n",
    "                  epochs=epochs,\n",
    "                  verbose=1,\n",
    "                  validation_data=(x_val, y_val),\n",
    "                    callbacks = callbacks)\n",
    "        \n",
    "    else:\n",
    "        \n",
    "        # Fit data \n",
    "        model.fit(x_train, y_train,\n",
    "                  batch_size=batch_size,\n",
    "                  epochs=epochs,\n",
    "                  verbose=1,\n",
    "                  validation_data=(x_val, y_val),\n",
    "                  callbacks = callbacks)\n",
    "\n",
    "        \n",
    "    # Compute final performance on validation data\n",
    "    score = model.evaluate(x_val, y_val, verbose=0)\n",
    "    print('Final validation loss:', score[0])\n",
    "    print('Final validation accuracy:', score[1])\n",
    "    \n",
    "    return model  "
   ]
  },
  {
   "cell_type": "code",
   "execution_count": null,
   "metadata": {},
   "outputs": [],
   "source": [
    "##### PARAMS FOR AUGMENTED DATASET #####\n",
    "## We add early stopping based on f score \n",
    "model_params_aug_custom = { \n",
    "                    \"x_train\": X_aug, \n",
    "                    \"y_train\": Y_aug, \n",
    "                    \"x_val\": x_val, \n",
    "                    \"y_val\": y_val,\n",
    "                    \"img_rows\": 128,\n",
    "                    \"img_cols\": 128, \n",
    "                    \"batch_size\": 16, \n",
    "                    \"epochs\": 2, \n",
    "                    \"learning_rate\": 0.0001, \n",
    "                    \"dropout\": 0.7,\n",
    "                    \"log\":False,\n",
    "                    \"threshold_acc\": 0.86, \n",
    "                    \"name_model\" : 'stack', \n",
    "                    \"threshold_fscore\" : 0.4\n",
    "                    }\n",
    "\n",
    "csv_logger = CSVLogger('log_conv_strong_augOK3.csv', append=True, separator=';')"
   ]
  },
  {
   "cell_type": "code",
   "execution_count": null,
   "metadata": {},
   "outputs": [],
   "source": [
    "model_stack_conv = evaluate_classifier_conv_custom_fscore(**model_params_aug_custom)"
   ]
  },
  {
   "cell_type": "markdown",
   "metadata": {
    "collapsed": true
   },
   "source": [
    "## AUGMENTED DATA WITH CONVOLUTIONAL VAE "
   ]
  },
  {
   "cell_type": "code",
   "execution_count": 20,
   "metadata": {},
   "outputs": [
    {
     "name": "stdout",
     "output_type": "stream",
     "text": [
      "-------- LOAD VAE DATA : class MEL ------------\n",
      "Nb of observations generated for this class: 9261\n",
      "-------- LOAD VAE DATA : class NV ------------\n",
      "Nb of observations generated for this class: 4913\n"
     ]
    }
   ],
   "source": [
    "###### LOAD DATA GENERATED FROM VAE ##########\n",
    "\n",
    "### --------- CLASS MEL ---------- ####\n",
    "\n",
    "filename_mel_VAE = \"./augmented_data/images_VAE_mel_10000.npy\"\n",
    "x_mel_aug_VAE = np.load(filename_mel_VAE)\n",
    "print (\"-------- LOAD VAE DATA : class MEL ------------\")\n",
    "print('Nb of observations generated for this class: {}'.format(x_mel_aug_VAE.shape[0]))\n",
    "#######################################\n",
    "\n",
    "\n",
    "### --------- CLASS NV ---------- ####\n",
    "filename_nv_VAE = \"./augmented_data/images_VAE_nv.npy\"\n",
    "x_nv_aug_VAE = np.load(filename_nv_VAE)\n",
    "print (\"-------- LOAD VAE DATA : class NV ------------\")\n",
    "print('Nb of observations generated for this class: {}'.format(x_nv_aug_VAE.shape[0]))\n",
    "#######################################"
   ]
  },
  {
   "cell_type": "markdown",
   "metadata": {
    "collapsed": true
   },
   "source": [
    "### CLASSIFICATION WITH ONLY AUGMENTED DATA"
   ]
  },
  {
   "cell_type": "markdown",
   "metadata": {},
   "source": [
    "#### DATA "
   ]
  },
  {
   "cell_type": "code",
   "execution_count": 2,
   "metadata": {},
   "outputs": [],
   "source": [
    "####### RECALL: DATA ORIGINAL FOR BOTH CLASSES  #######\n",
    "\n",
    "###### MEL: class 1 ######\n",
    "x_mel_train, x_mel_test = np.load(\"./dataset/train_mel.npy\"), np.load(\"./dataset/test_mel.npy\")\n",
    "y_mel_train, y_mel_test = np.ones((x_mel_train.shape[0], )), np.ones((x_mel_test.shape[0], ))\n",
    "\n",
    "\n",
    "###### NV: class 0 ######\n",
    "x_nv_train, x_nv_test = np.load(\"./dataset/train_nv.npy\"), np.load(\"./dataset/test_nv.npy\")\n",
    "y_nv_train, y_nv_test = np.zeros((x_nv_train.shape[0], )), np.zeros((x_nv_test.shape[0], ))"
   ]
  },
  {
   "cell_type": "code",
   "execution_count": 12,
   "metadata": {},
   "outputs": [],
   "source": [
    "### VALIDATION ORIGINAL DATASET MIX CLASSES ###### \n",
    "\n",
    "##### We need to concatenate also x_mel_test and y_mel_test ###### \n",
    "x_val_org, y_val_org = concat_train_label(x_mel_test, x_nv_test, y_mel_test, y_nv_test)\n",
    "x_val_org, y_val_org = shuffle_data(x_val_org, y_val_org)"
   ]
  },
  {
   "cell_type": "code",
   "execution_count": 17,
   "metadata": {},
   "outputs": [],
   "source": [
    "x_train_org, y_train_org = concat_train_label(x_mel_train, x_nv_train, y_mel_train, y_nv_train)\n",
    "x_train_org, y_train_org = shuffle_data(x_train_org, y_train_org)"
   ]
  },
  {
   "cell_type": "code",
   "execution_count": 10,
   "metadata": {},
   "outputs": [],
   "source": [
    "#### We are going to classify our images but using only augmented images from both classes ### \n",
    "### First, we shuffle data\n",
    "### Second, we take the same nb of observations for both classes \n",
    "### Third, we concatenate those two classes and shuffle again the data\n",
    "\n",
    "#### Shuffle data ####\n",
    "y_mel_aug_VAE = np.ones((x_mel_aug_VAE.shape[0],))\n",
    "x_mel_aug_VAE, _ = shuffle_data(x_mel_aug_VAE, y_mel_aug_VAE)\n",
    "\n",
    "y_nv_aug_VAE = np.zeros((x_nv_aug_VAE.shape[0],))\n",
    "x_nv_aug_VAE, _ = shuffle_data(x_nv_aug_VAE, y_nv_aug_VAE)\n",
    "\n",
    "#### Take same nb of observations for both classes --- expected: 4,913 obs  #### \n",
    "x_mel_VAE, y_mel_VAE = x_mel_aug_VAE[np.arange(x_nv_aug_VAE.shape[0])], y_mel_aug_VAE[np.arange(x_nv_aug_VAE.shape[0])]\n",
    "\n",
    "### Concatenate both arrays and shuffle the concatenate ### \n",
    "X_aug_only, Y_aug_only = concat_train_label(x_nv_aug_VAE, x_mel_VAE, y_nv_aug_VAE, y_mel_VAE)\n",
    "\n",
    "## Shuffle data ##\n",
    "X_aug_only, Y_aug_only = shuffle_data(X_aug_only, Y_aug_only)"
   ]
  },
  {
   "cell_type": "code",
   "execution_count": 11,
   "metadata": {},
   "outputs": [],
   "source": [
    "####### AUGMENTED DATA MEL + ORG MEL ##########\n",
    "\n",
    "### sample data from mel augmented until we have same nb of observations from class MEL and class NV ### \n",
    "\n",
    "### IF AUGMENTED MEL NOT SHUFFLED BEFORE ###\n",
    "y_mel_aug_VAE = np.ones((x_mel_aug_VAE.shape[0],))\n",
    "x_mel_aug_VAE, _ = shuffle_data(x_mel_aug_VAE, y_mel_aug_VAE)\n",
    "#######################################\n",
    "nb_obs_add = x_nv_train.shape[0]-x_mel_train.shape[0]\n",
    "index_aug_mel = np.arange(nb_obs_add)\n",
    "x_mel_aug_VAE_add = x_mel_aug_VAE[index_aug_mel] ## only take a certain nb of observations from MEL augmented dataset\n",
    "y_mel_aug_VAE_add = np.ones((x_mel_aug_VAE_add.shape[0],)) ## mel of class 1\n",
    "\n",
    "## concatenate MEL org with MEL aug : MIX org and augmented ==> Now, we have obs with aug and org of class MEL \n",
    "x_mel_train_mix, y_mel_train_mix =  concat_train_label(x_mel_train, x_mel_aug_VAE_add, y_mel_train, y_mel_aug_VAE_add)"
   ]
  },
  {
   "cell_type": "code",
   "execution_count": 10,
   "metadata": {},
   "outputs": [
    {
     "data": {
      "text/plain": [
       "(5365, 128, 128, 3)"
      ]
     },
     "execution_count": 10,
     "metadata": {},
     "output_type": "execute_result"
    }
   ],
   "source": [
    "x_mel_train_mix.shape"
   ]
  },
  {
   "cell_type": "markdown",
   "metadata": {},
   "source": [
    "#### ONLY COMPUTE ONCE "
   ]
  },
  {
   "cell_type": "raw",
   "metadata": {},
   "source": [
    "##### SAVE DATA TO LOCAL AND STORE IT IN CLOUD ######\n",
    "filename_aug_only_X = './augmented_data/X_aug_only_nv_mel'\n",
    "filename_aug_only_Y = './augmented_data/Y_aug_only_nv_mel'\n",
    "\n",
    "\n",
    "np.save(filename_aug_only_X, X_aug_only)\n",
    "np.save(filename_aug_only_Y, Y_aug_only)"
   ]
  },
  {
   "cell_type": "raw",
   "metadata": {},
   "source": [
    "######## STORE IT IN CLOUD ###########\n",
    "!gsutil -m cp  ./augmented_data/X_aug_only_nv_mel.npy  gs://dataham/VAE_DATA/"
   ]
  },
  {
   "cell_type": "markdown",
   "metadata": {},
   "source": [
    "#### PARAMS "
   ]
  },
  {
   "cell_type": "code",
   "execution_count": 24,
   "metadata": {},
   "outputs": [],
   "source": [
    "##### PARAMS FOR AUGMENTED DATASET #####\n",
    "## We add early stopping based on f score \n",
    "model_params_VAE_aug_custom = { \n",
    "                    \"x_train\": X_aug_only, \n",
    "                    \"y_train\": Y_aug_only, \n",
    "                    \"x_val\": x_val_org, \n",
    "                    \"y_val\": y_val_org,\n",
    "                    \"img_rows\": 128,\n",
    "                    \"img_cols\": 128, \n",
    "                    \"batch_size\": 32, \n",
    "                    \"epochs\": 20, \n",
    "                    \"learning_rate\": 0.0001, \n",
    "                    \"dropout\": 0.7,\n",
    "                    \"log\":False,\n",
    "                    \"threshold_acc\": 0.86, \n",
    "                    \"name_model\" : 'VAE_only', \n",
    "                    \"threshold_fscore\" : 0.5\n",
    "                    }\n",
    "\n",
    "csv_logger = CSVLogger('log_conv_strong_augOK3.csv', append=True, separator=';')"
   ]
  },
  {
   "cell_type": "code",
   "execution_count": null,
   "metadata": {},
   "outputs": [],
   "source": [
    "#### CLASSIFY AUGMENTED DATA #######\n",
    "model_VAE_conv = evaluate_classifier_conv_custom_fscore(**model_params_VAE_aug_custom)"
   ]
  },
  {
   "cell_type": "code",
   "execution_count": null,
   "metadata": {},
   "outputs": [],
   "source": [
    "####### LOAD BEST MODEL THANKS TO MODELCHECKPOINT ##########\n",
    "from keras.models import load_model\n",
    "\n",
    "model_best_VAE_conv_AUG_only = load_model(\"./best_modelVAE_only.hdf5\")"
   ]
  },
  {
   "cell_type": "code",
   "execution_count": 35,
   "metadata": {},
   "outputs": [
    {
     "name": "stdout",
     "output_type": "stream",
     "text": [
      "Confusion matrix, without normalization\n",
      "Normalized confusion matrix\n"
     ]
    },
    {
     "data": {
      "image/png": "[encoded data removed]",
      "text/plain": [
       "<Figure size 1080x720 with 2 Axes>"
      ]
     },
     "metadata": {
      "needs_background": "light"
     },
     "output_type": "display_data"
    },
    {
     "data": {
      "image/png": "[encoded data removed]",
      "text/plain": [
       "<Figure size 1080x720 with 2 Axes>"
      ]
     },
     "metadata": {
      "needs_background": "light"
     },
     "output_type": "display_data"
    }
   ],
   "source": [
    "# Plot non-normalized confusion matrix\n",
    "plot_confusion_matrix(model_VAE_conv, x_val = x_val_org, y_val=y_val_org)\n",
    "\n",
    "# Plot normalized confusion matrix\n",
    "plot_confusion_matrix(model_VAE_conv, x_val = x_val_org, y_val=y_val_org, normalize = True)\n",
    "\n",
    "plt.show()"
   ]
  },
  {
   "cell_type": "markdown",
   "metadata": {
    "collapsed": true
   },
   "source": [
    "### CLASSIFICATION WITH  AUGMENTED DATA FROM MEL ADDED TO ORIGINAL DATA"
   ]
  },
  {
   "cell_type": "markdown",
   "metadata": {},
   "source": [
    "#### DATA "
   ]
  },
  {
   "cell_type": "raw",
   "metadata": {
    "collapsed": true
   },
   "source": [
    "x_mel_train_mix, y_mel_train_mix"
   ]
  },
  {
   "cell_type": "code",
   "execution_count": 12,
   "metadata": {},
   "outputs": [],
   "source": [
    "### Concatenate both arrays and shuffle the concatenate ### \n",
    "X_aug_mix, Y_aug_mix = concat_train_label(x_nv_train, x_mel_train_mix, y_nv_train, y_mel_train_mix)\n",
    "\n",
    "## Shuffle data ##\n",
    "X_aug_mix, Y_aug_mix = shuffle_data(X_aug_mix, Y_aug_mix)"
   ]
  },
  {
   "cell_type": "markdown",
   "metadata": {},
   "source": [
    "#### PARAMS "
   ]
  },
  {
   "cell_type": "code",
   "execution_count": 21,
   "metadata": {},
   "outputs": [],
   "source": [
    "##### PARAMS FOR AUGMENTED DATASET #####\n",
    "## We add early stopping based on f score \n",
    "model_params_VAE_aug_custom_mix = { \n",
    "                    \"x_train\": X_aug_mix, \n",
    "                    \"y_train\": Y_aug_mix, \n",
    "                    \"x_val\": x_val_org,  # x_val \n",
    "                    \"y_val\": y_val_org, # y_val\n",
    "                    \"img_rows\": 128,\n",
    "                    \"img_cols\": 128, \n",
    "                    \"batch_size\": 32, \n",
    "                    \"epochs\": 5, \n",
    "                    \"learning_rate\": 1e-3, \n",
    "                    \"dropout\": 0.3,\n",
    "                    \"log\":False,\n",
    "                    \"threshold_acc\": 0.86, \n",
    "                    \"name_model\" : 'VAE_only', \n",
    "                    \"threshold_fscore\" : 0.8\n",
    "                    }\n",
    "\n",
    "csv_logger = CSVLogger('log_conv_strong_augOK3.csv', append=True, separator=';')"
   ]
  },
  {
   "cell_type": "markdown",
   "metadata": {},
   "source": [
    "#### CLASSIFICATION"
   ]
  },
  {
   "cell_type": "code",
   "execution_count": null,
   "metadata": {},
   "outputs": [],
   "source": [
    "#### CLASSIFY AUGMENTED DATA where MEL is from ORG and AUGMENTED_VAE  #######\n",
    "model_VAE_conv_mix = evaluate_classifier_conv_custom_fscore(**model_params_VAE_aug_custom_mix)"
   ]
  },
  {
   "cell_type": "code",
   "execution_count": 9,
   "metadata": {},
   "outputs": [
    {
     "data": {
      "text/plain": [
       "<matplotlib.axes._subplots.AxesSubplot at 0x7ff36976b710>"
      ]
     },
     "execution_count": 9,
     "metadata": {},
     "output_type": "execute_result"
    },
    {
     "data": {
      "image/png": "[encoded data removed]",
      "text/plain": [
       "<Figure size 1080x720 with 2 Axes>"
      ]
     },
     "metadata": {
      "needs_background": "light"
     },
     "output_type": "display_data"
    }
   ],
   "source": [
    "##### PLOT CONFUSION MATRIX ######\n",
    "\n",
    "# Plot normalized confusion matrix\n",
    "plot_confusion_matrix(model_VAE_conv_mix, x_val = x_val_org, y_val=y_val_org, normalize = True)\n",
    "\n",
    "plt.show()"
   ]
  },
  {
   "cell_type": "markdown",
   "metadata": {
    "collapsed": true
   },
   "source": [
    "### SMART AUGMENTATION"
   ]
  },
  {
   "cell_type": "code",
   "execution_count": 39,
   "metadata": {},
   "outputs": [
    {
     "name": "stdout",
     "output_type": "stream",
     "text": [
      "-------- LOAD VAE DATA : class MEL ------------\n",
      "Nb of observations generated for this class: 4913\n"
     ]
    }
   ],
   "source": [
    "###### LOAD DATA GENERATED FROM SMART VAE ##########\n",
    "\n",
    "### --------- CLASS MEL ---------- ####\n",
    "\n",
    "filename_mel_smart = \"./augmented_data/images_smart_mel.npy\"\n",
    "x_mel_smart = np.load(filename_mel_smart)\n",
    "print (\"-------- LOAD VAE DATA : class MEL ------------\")\n",
    "print('Nb of observations generated for this class: {}'.format(x_mel_smart.shape[0]))\n",
    "#######################################\n"
   ]
  },
  {
   "cell_type": "code",
   "execution_count": 40,
   "metadata": {},
   "outputs": [],
   "source": [
    "####### AUGMENTED DATA MEL + ORG MEL ##########\n",
    "\n",
    "### sample data from mel augmented until we have same nb of observations from class MEL and class NV ### \n",
    "\n",
    "## concatenate MEL org with MEL aug : MIX org and augmented ==> Now, we have obs with aug and org of class MEL \n",
    "x_mel_smart_mix, y_mel_smart_mix =  concat_train_label(x_mel_train, x_mel_smart, y_mel_train, np.ones(x_mel_smart.shape[0],))\n",
    "\n",
    "\n",
    "X_aug_smart, Y_aug_smart  = concat_train_label(x_mel_smart_mix, x_nv_train, y_mel_smart_mix, y_nv_train)\n",
    "\n",
    "X_aug_smart, Y_aug_smart  = shuffle_data(X_aug_smart, Y_aug_smart)"
   ]
  },
  {
   "cell_type": "code",
   "execution_count": 43,
   "metadata": {},
   "outputs": [],
   "source": [
    "##### PARAMS FOR AUGMENTED DATASET #####\n",
    "## We add early stopping based on f score \n",
    "model_params_smart_custom_mix = { \n",
    "                    \"x_train\": X_aug_smart, \n",
    "                    \"y_train\": Y_aug_smart, \n",
    "                    \"x_val\": x_val_org,  # x_val \n",
    "                    \"y_val\": y_val_org, # y_val\n",
    "                    \"img_rows\": 128,\n",
    "                    \"img_cols\": 128, \n",
    "                    \"batch_size\": 32, \n",
    "                    \"epochs\": 20, \n",
    "                    \"learning_rate\": 1e-5, \n",
    "                    \"dropout\": 0.3,\n",
    "                    \"log\":False,\n",
    "                    \"threshold_acc\": 0.86, \n",
    "                    \"name_model\" : 'VAE_only', \n",
    "                    \"threshold_fscore\" : 0.8\n",
    "                    }\n",
    "\n",
    "csv_logger = CSVLogger('log_conv_strong_augOK3.csv', append=True, separator=';')"
   ]
  },
  {
   "cell_type": "markdown",
   "metadata": {},
   "source": [
    "### CLASSIFICATION WITH SMART_AUG_MEL + ORG"
   ]
  },
  {
   "cell_type": "code",
   "execution_count": null,
   "metadata": {},
   "outputs": [],
   "source": [
    "#### CLASSIFY AUGMENTED DATA where MEL is from ORG and AUGMENTED_VAE  #######\n",
    "model_VAE_smart_mix = evaluate_classifier_conv_custom_fscore(**model_params_smart_custom_mix)"
   ]
  },
  {
   "cell_type": "code",
   "execution_count": 121,
   "metadata": {},
   "outputs": [
    {
     "data": {
      "text/plain": [
       "<matplotlib.axes._subplots.AxesSubplot at 0x7fd6d73f2f98>"
      ]
     },
     "execution_count": 121,
     "metadata": {},
     "output_type": "execute_result"
    },
    {
     "data": {
      "image/png": "[encoded data removed]",
      "text/plain": [
       "<Figure size 1080x720 with 2 Axes>"
      ]
     },
     "metadata": {
      "needs_background": "light"
     },
     "output_type": "display_data"
    }
   ],
   "source": [
    "##### PLOT CONFUSION MATRIX IN GREEN ######\n",
    "\n",
    "# Plot normalized confusion matrix\n",
    "plot_confusion_matrix(model_VAE_smart_mix, x_val = x_val_org, y_val=y_val_org, normalize = True, cmap=plt.cm.Greens)\n",
    "\n",
    "plt.show()"
   ]
  },
  {
   "cell_type": "markdown",
   "metadata": {},
   "source": [
    "### CLASSIFICATION WITH SMART_AUG_MEL + VAE_AUG_NV +  ORG"
   ]
  },
  {
   "cell_type": "code",
   "execution_count": null,
   "metadata": {},
   "outputs": [],
   "source": [
    "############# ADD NV agumented to data ##############\n",
    "\n",
    "X_aug_smart, Y_aug_smart  = concat_train_label(X_aug_smart, x_nv_aug_VAE, Y_aug_smart, np.zeros(x_nv_aug_VAE.shape[0]))\n",
    "X_aug_smart, Y_aug_smart = shuffle_data(X_aug_smart, Y_aug_smart)"
   ]
  },
  {
   "cell_type": "markdown",
   "metadata": {},
   "source": [
    "### CLASSIFICATION WITH SIMPLE AUGMENTATION -- CHECK FSCORE ---"
   ]
  },
  {
   "cell_type": "code",
   "execution_count": 10,
   "metadata": {},
   "outputs": [],
   "source": [
    "#### MEL augmented data from keras\n",
    "\n",
    "x_train_mel = x_train[np.where(y_train == 1 )]\n",
    "y_train_mel = np.ones((x_train_mel.shape[0],))\n"
   ]
  },
  {
   "cell_type": "code",
   "execution_count": 18,
   "metadata": {},
   "outputs": [],
   "source": [
    "x_train_aug, y_train_aug = concat_train_label(x_train_org, x_train_mel, y_train_org, y_train_mel)\n",
    "x_train_aug, y_train_aug = shuffle_data(x_train_aug, y_train_aug)"
   ]
  },
  {
   "cell_type": "code",
   "execution_count": 28,
   "metadata": {},
   "outputs": [],
   "source": [
    "##### PARAMS FOR AUGMENTED DATASET #####\n",
    "## We add early stopping based on f score \n",
    "model_params_simple_aug = { \n",
    "                    \"x_train\": x_train_aug, \n",
    "                    \"y_train\": y_train_aug, \n",
    "                    \"x_val\": x_val_org,  # x_val \n",
    "                    \"y_val\": y_val_org, # y_val\n",
    "                    \"img_rows\": 128,\n",
    "                    \"img_cols\": 128, \n",
    "                    \"batch_size\": 32, \n",
    "                    \"epochs\": 10, \n",
    "                    \"learning_rate\": 1e-3, \n",
    "                    \"dropout\": 0.3,\n",
    "                    \"log\":False,\n",
    "                    \"threshold_acc\": 0.86, \n",
    "                    \"name_model\" : 'simple_aug', \n",
    "                    \"threshold_fscore\" : 0.8\n",
    "                    }\n",
    "\n",
    "csv_logger = CSVLogger('log_conv_strong_augOK3.csv', append=True, separator=';')"
   ]
  },
  {
   "cell_type": "code",
   "execution_count": 29,
   "metadata": {},
   "outputs": [
    {
     "name": "stdout",
     "output_type": "stream",
     "text": [
      "Train on 6950 samples, validate on 1566 samples\n",
      "Epoch 1/10\n",
      "6950/6950 [==============================] - 47s 7ms/step - loss: 0.5232 - acc: 0.7679 - f1: 0.0092 - recall: 0.0143 - val_loss: 0.3917 - val_acc: 0.8557 - val_f1: 0.0000e+00 - val_recall: 0.0000e+00\n",
      "Epoch 2/10\n",
      "6950/6950 [==============================] - 45s 7ms/step - loss: 0.4330 - acc: 0.7721 - f1: 0.0060 - recall: 0.0042 - val_loss: 0.4125 - val_acc: 0.8557 - val_f1: 0.0000e+00 - val_recall: 0.0000e+00\n",
      "Epoch 3/10\n",
      "6950/6950 [==============================] - 45s 7ms/step - loss: 0.4123 - acc: 0.7755 - f1: 0.0449 - recall: 0.0348 - val_loss: 0.3491 - val_acc: 0.8557 - val_f1: 0.0000e+00 - val_recall: 0.0000e+00\n",
      "Epoch 4/10\n",
      "6950/6950 [==============================] - 46s 7ms/step - loss: 0.4000 - acc: 0.7928 - f1: 0.3171 - recall: 0.2737 - val_loss: 0.3941 - val_acc: 0.8550 - val_f1: 0.1823 - val_recall: 0.1357\n",
      "Epoch 5/10\n",
      "6950/6950 [==============================] - 45s 7ms/step - loss: 0.3900 - acc: 0.7993 - f1: 0.4354 - recall: 0.3978 - val_loss: 0.3555 - val_acc: 0.8442 - val_f1: 0.1917 - val_recall: 0.1504\n",
      "Epoch 6/10\n",
      "6950/6950 [==============================] - 46s 7ms/step - loss: 0.3802 - acc: 0.8118 - f1: 0.4599 - recall: 0.4110 - val_loss: 0.3796 - val_acc: 0.7708 - val_f1: 0.3811 - val_recall: 0.5197\n",
      "Epoch 7/10\n",
      "6950/6950 [==============================] - 45s 7ms/step - loss: 0.3707 - acc: 0.8160 - f1: 0.5159 - recall: 0.4792 - val_loss: 0.3868 - val_acc: 0.8123 - val_f1: 0.3764 - val_recall: 0.4116\n",
      "Epoch 8/10\n",
      "6950/6950 [==============================] - 45s 7ms/step - loss: 0.3591 - acc: 0.8227 - f1: 0.5135 - recall: 0.4706 - val_loss: 0.3614 - val_acc: 0.8429 - val_f1: 0.3589 - val_recall: 0.3366\n",
      "Epoch 9/10\n",
      "6950/6950 [==============================] - 45s 7ms/step - loss: 0.3593 - acc: 0.8268 - f1: 0.5399 - recall: 0.5095 - val_loss: 0.3308 - val_acc: 0.8563 - val_f1: 0.2760 - val_recall: 0.2248\n",
      "Epoch 10/10\n",
      "6950/6950 [==============================] - 45s 7ms/step - loss: 0.3470 - acc: 0.8371 - f1: 0.5646 - recall: 0.5344 - val_loss: 0.4855 - val_acc: 0.7778 - val_f1: 0.4009 - val_recall: 0.5410\n",
      "Final validation loss: 0.4854503223341848\n",
      "Final validation accuracy: 0.777777777473284\n"
     ]
    }
   ],
   "source": [
    "model_simple = evaluate_classifier_conv_custom_fscore(**model_params_simple_aug)"
   ]
  }
 ],
 "metadata": {
  "kernelspec": {
   "display_name": "Python 3",
   "language": "python",
   "name": "python3"
  },
  "language_info": {
   "codemirror_mode": {
    "name": "ipython",
    "version": 3
   },
   "file_extension": ".py",
   "mimetype": "text/x-python",
   "name": "python",
   "nbconvert_exporter": "python",
   "pygments_lexer": "ipython3",
   "version": "3.5.6"
  }
 },
 "nbformat": 4,
 "nbformat_minor": 1
}
